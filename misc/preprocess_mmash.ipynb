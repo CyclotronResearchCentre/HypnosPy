{
 "cells": [
  {
   "cell_type": "code",
   "execution_count": null,
   "metadata": {
    "ExecuteTime": {
     "end_time": "2020-08-04T16:55:48.784253Z",
     "start_time": "2020-08-04T16:55:48.295845Z"
    }
   },
   "outputs": [],
   "source": [
    "from glob import glob\n",
    "import pandas as pd\n",
    "import numpy as np\n",
    "from datetime import timedelta, datetime"
   ]
  },
  {
   "cell_type": "code",
   "execution_count": null,
   "metadata": {
    "ExecuteTime": {
     "end_time": "2020-08-04T16:55:48.837991Z",
     "start_time": "2020-08-04T16:55:48.834440Z"
    }
   },
   "outputs": [],
   "source": [
    "mmash_root = \"./data/mmash/DataPaper/*\"\n",
    "outfolder = \"./data/collection_mmash/\""
   ]
  },
  {
   "cell_type": "code",
   "execution_count": null,
   "metadata": {
    "ExecuteTime": {
     "end_time": "2020-08-04T17:16:59.831761Z",
     "start_time": "2020-08-04T17:16:59.823688Z"
    }
   },
   "outputs": [],
   "source": [
    "def roll(x, y, z):\n",
    "    roll_degrees = np.arctan(y/np.sqrt((x*x) + (z*z))) * 180.0/np.pi\n",
    "    return roll_degrees\n",
    "\n",
    "def pitch(x, y, z):\n",
    "    pitch_degrees = np.arctan(x/np.sqrt((y*y) + (z*z))) * 180.0/np.pi\n",
    "    return pitch_degrees\n",
    "\n",
    "def yaw(x, y, z):\n",
    "    yaw_degrees = np.arctan(z/np.sqrt((y*y) + (x*x))) * 180.0/np.pi\n",
    "    return yaw_degrees\n"
   ]
  },
  {
   "cell_type": "code",
   "execution_count": null,
   "metadata": {
    "ExecuteTime": {
     "end_time": "2020-08-04T17:19:52.764778Z",
     "start_time": "2020-08-04T17:17:00.848983Z"
    }
   },
   "outputs": [],
   "source": [
    "# Preprocess the mmash collection (fix day/datetime) and add pid\n",
    "\n",
    "for userfolder in glob(mmash_root):\n",
    "    print(userfolder)\n",
    "    user = userfolder.split(\"_\")[1]\n",
    "    df = pd.read_csv(userfolder + \"/Actigraph.csv\")\n",
    "    del df[\"Unnamed: 0\"]\n",
    "    \n",
    "    df[\"day\"] = df[\"day\"].replace(-29, 2)\n",
    "    df[\"day\"] = df[\"day\"].apply(lambda x: \"2020-01-0%d\" % x)\n",
    "    df[\"time\"] = df[[\"day\", \"time\"]].apply(lambda x: \"%s %s\" % (x[\"day\"], x[\"time\"]), axis=1)\n",
    "    \n",
    "    # Resample to 5s\n",
    "    df[\"time\"] = pd.to_datetime(df[\"time\"], format= \"%Y-%m-%d %H:%M:%S\")\n",
    "    df_time = df.set_index(\"time\")\n",
    "    df_time = df_time.resample(\"5s\").mean().interpolate()\n",
    "    \n",
    "    # Back to df\n",
    "    df = df_time.reset_index()\n",
    "    # Save time in a format like 2020-Jan-01 to avoid confusion (bad side: it might be very slow if you do not use format later on)\n",
    "    df[\"time\"] = df[\"time\"].dt.strftime('%Y-%b-%d %H:%M:%S')\n",
    "    \n",
    "    df[\"pid\"] = user\n",
    "    df[\"pitch\"] = df[[\"Axis1\", \"Axis2\", \"Axis3\"]].apply(lambda r: pitch(r[\"Axis1\"], r[\"Axis2\"], r[\"Axis3\"]), axis=1)\n",
    "    df[\"pitch\"] = df[\"pitch\"].fillna(0.0)\n",
    "    df[\"roll\"] = df[[\"Axis1\", \"Axis2\", \"Axis3\"]].apply(lambda r: pitch(r[\"Axis1\"], r[\"Axis2\"], r[\"Axis3\"]), axis=1)\n",
    "    df[\"roll\"] = df[\"roll\"].fillna(0.0)\n",
    "    df[\"yaw\"] = df[[\"Axis1\", \"Axis2\", \"Axis3\"]].apply(lambda r: pitch(r[\"Axis1\"], r[\"Axis2\"], r[\"Axis3\"]), axis=1)\n",
    "    df[\"yaw\"] = df[\"yaw\"].fillna(0.0)\n",
    "    \n",
    "    df.to_csv(outfolder + \"/actigraph_%s.csv\" % (user), index=False)\n",
    "    "
   ]
  },
  {
   "cell_type": "code",
   "execution_count": null,
   "metadata": {
    "ExecuteTime": {
     "end_time": "2020-08-04T10:18:48.742691Z",
     "start_time": "2020-08-04T10:18:48.723402Z"
    }
   },
   "outputs": [],
   "source": [
    "# Aux function to get a valid entry from a start time\n",
    "def get_valid_entry(outfolder, user, start_time):\n",
    "\n",
    "    act = pd.read_csv(outfolder + \"/actigraph_%s.csv\" % (user))\n",
    "    act[\"time\"] = pd.to_datetime(act[\"time\"], format='%Y-%b-%d %H:%M:%S')\n",
    "    start_time = datetime.strptime(start_time, '%Y-%m-%d %H:%M:%S')\n",
    "\n",
    "    after = act[act[\"time\"].apply(lambda x: x >= start_time)]\n",
    "    before = act[act[\"time\"].apply(lambda x: x <= start_time)]\n",
    "\n",
    "    delay_after = delay_before = timedelta(hours=10)\n",
    "    \n",
    "    if after.empty and before.empty:\n",
    "        print(\"ERROR!!!!\")\n",
    "        return None\n",
    "    \n",
    "    if not after.empty:\n",
    "        after_time = after.iloc[0][\"time\"]\n",
    "        delay_after = after_time - start_time\n",
    "        \n",
    "    if not before.empty:\n",
    "        before_time = before.iloc[-1][\"time\"]\n",
    "        delay_before = start_time - before_time\n",
    "    \n",
    "    print(delay_after, \"----\", delay_before)\n",
    "    if delay_after < delay_before :\n",
    "        print(\"-->\", delay_after)\n",
    "        return after_time\n",
    "    else:\n",
    "        print(\"-->\", delay_before)\n",
    "        return before_time\n"
   ]
  },
  {
   "cell_type": "code",
   "execution_count": null,
   "metadata": {
    "ExecuteTime": {
     "end_time": "2020-08-04T10:18:56.237855Z",
     "start_time": "2020-08-04T10:18:49.787151Z"
    }
   },
   "outputs": [],
   "source": [
    "# Create diary entries\n",
    "# We need to create a file with cols: sleep_onset, sleep_offset, pid, TST\n",
    "\n",
    "rows = []\n",
    "for userfolder in glob(mmash_root):\n",
    "    print(userfolder)\n",
    "    user = userfolder.split(\"_\")[1]\n",
    "    \n",
    "    df = pd.read_csv(userfolder + \"/sleep.csv\")\n",
    "    \n",
    "    if df.empty:\n",
    "        print(\"No sleep information for user\", user)\n",
    "        continue\n",
    "        \n",
    "    row = {}\n",
    "    row[\"pid\"] = str(user)\n",
    "    row[\"sleep_onset\"] = df[[\"Onset Date\", \"Onset Time\"]].apply(lambda x: \"2020-01-0%d %s:00\" % (x[0], x[1]), axis=1).values[0]\n",
    "    row[\"sleep_offset\"] = df[[\"Out Bed Date\", \"Out Bed Time\"]].apply(lambda x: \"2020-01-02 %s:00\" % (x[1]), axis=1).values[0]\n",
    "    \n",
    "    # Gets the closest valid time to sleep onset or offset\n",
    "    row[\"sleep_onset\"] = get_valid_entry(outfolder, user, row[\"sleep_onset\"])\n",
    "    row[\"sleep_offset\"] = get_valid_entry(outfolder, user, row[\"sleep_offset\"])\n",
    "    rows.append(row)\n",
    "    \n",
    "pd.DataFrame(rows).sort_values(by=\"pid\").to_csv(\"data/diaries/mmash_diary.csv\", index=False)"
   ]
  },
  {
   "cell_type": "markdown",
   "metadata": {},
   "source": [
    "## Code to check the deltas between two consecutive timestamps"
   ]
  },
  {
   "cell_type": "code",
   "execution_count": null,
   "metadata": {
    "ExecuteTime": {
     "end_time": "2020-08-03T10:20:28.865166Z",
     "start_time": "2020-08-03T10:20:16.909067Z"
    }
   },
   "outputs": [],
   "source": [
    "# checking the distribution of GAPs in the collection\n",
    "deltas = []\n",
    "\n",
    "for userfolder in glob(mmash_root):\n",
    "    print(userfolder)\n",
    "    user = userfolder.split(\"_\")[1]\n",
    "    df = pd.read_csv(outfolder + \"/actigraph_%s.csv\" % (user))\n",
    "    \n",
    "    deltas.append(pd.to_datetime(df[\"time\"], format='%Y-%b-%d %H:%M:%S').diff().dropna())\n",
    "\n",
    "deltas = pd.concat(deltas, axis=0).reset_index(drop=True)"
   ]
  },
  {
   "cell_type": "code",
   "execution_count": null,
   "metadata": {
    "ExecuteTime": {
     "end_time": "2020-08-03T10:25:14.654729Z",
     "start_time": "2020-08-03T10:25:14.541201Z"
    }
   },
   "outputs": [],
   "source": [
    "deltas.describe()"
   ]
  },
  {
   "cell_type": "code",
   "execution_count": null,
   "metadata": {
    "ExecuteTime": {
     "end_time": "2020-08-03T15:47:31.166358Z",
     "start_time": "2020-08-03T15:47:16.846767Z"
    }
   },
   "outputs": [],
   "source": [
    "from collections import Counter\n",
    "counts = Counter(deltas)\n",
    "counts"
   ]
  },
  {
   "cell_type": "code",
   "execution_count": null,
   "metadata": {
    "ExecuteTime": {
     "end_time": "2020-08-03T15:47:31.183488Z",
     "start_time": "2020-08-03T15:47:31.168804Z"
    }
   },
   "outputs": [],
   "source": [
    "50166. / deltas.shape[0]"
   ]
  }
 ],
 "metadata": {
  "kernelspec": {
   "display_name": "Python 3",
   "language": "python",
   "name": "python3"
  },
  "language_info": {
   "codemirror_mode": {
    "name": "ipython",
    "version": 3
   },
   "file_extension": ".py",
   "mimetype": "text/x-python",
   "name": "python",
   "nbconvert_exporter": "python",
   "pygments_lexer": "ipython3",
   "version": "3.8.5"
  }
 },
 "nbformat": 4,
 "nbformat_minor": 4
}
