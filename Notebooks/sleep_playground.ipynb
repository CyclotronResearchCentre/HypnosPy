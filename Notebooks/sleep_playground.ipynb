{
 "cells": [
  {
   "cell_type": "markdown",
   "metadata": {},
   "source": [
    "# Physical activity and sleep notebook:\n",
    "\n",
    "### Contents:\n",
    "\n",
    "1. Loading dependencies\n",
    "2. Processing and extraction\n",
    "\n",
    "## 1. Loading dependencies"
   ]
  },
  {
   "cell_type": "code",
   "execution_count": 1,
   "metadata": {},
   "outputs": [],
   "source": [
    "#Package loading\n",
    "import numpy as np\n",
    "import pandas as pd\n",
    "import seaborn as sns\n",
    "from tqdm import tqdm\n",
    "from datetime import datetime, date, time, timedelta\n",
    "\n",
    "import matplotlib.pyplot as plt\n",
    "import matplotlib.pylab as pl\n",
    "from matplotlib import rcParams\n",
    "from matplotlib.dates import DateFormatter\n",
    "from matplotlib import rc\n",
    "from matplotlib.dates import date2num\n",
    "from IPython import display\n",
    "from matplotlib.colors import ListedColormap\n",
    "from matplotlib.patches import Patch\n",
    "import matplotlib.dates as dates\n",
    "%matplotlib inline\n",
    "\n",
    "from scipy import stats as sps\n",
    "from scipy.interpolate import interp1d\n",
    "\n",
    "from sklearn.preprocessing import MinMaxScaler\n",
    "from sklearn.preprocessing import StandardScaler\n",
    "from sklearn.svm import LinearSVC\n",
    "from sklearn.linear_model import LinearRegression\n",
    "from sklearn.model_selection import train_test_split\n",
    "from sklearn.feature_selection import RFE\n",
    "from sklearn.metrics import accuracy_score\n",
    "from sklearn.ensemble import GradientBoostingRegressor\n",
    "\n",
    "import statsmodels.api as sm\n",
    "from CosinorPy import file_parser, cosinor, cosinor1\n",
    "\n",
    "import glob\n",
    "import math\n",
    "from os import path\n",
    "from collections import defaultdict\n",
    "import nolds\n",
    "import pyActigraphy as pyAc\n",
    "import warnings\n",
    "warnings.filterwarnings('ignore')\n",
    "\n",
    "plt.rcParams['figure.figsize'] = (14,8)\n",
    "plt.rcParams['font.size'] = 18\n",
    "plt.rcParams['image.cmap'] = 'plasma'\n",
    "plt.rcParams['axes.linewidth'] = 2\n",
    "plt.rc('font', family='serif')"
   ]
  },
  {
   "cell_type": "markdown",
   "metadata": {},
   "source": [
    "## 2. Processing and extraction"
   ]
  },
  {
   "cell_type": "code",
   "execution_count": 35,
   "metadata": {},
   "outputs": [
    {
     "name": "stdout",
     "output_type": "stream",
     "text": [
      "The autoreload extension is already loaded. To reload it, use:\n",
      "  %reload_ext autoreload\n"
     ]
    }
   ],
   "source": [
    "%load_ext autoreload\n",
    "%autoreload 2\n",
    "warnings.filterwarnings('ignore')\n",
    "from preprocessing import Subject\n",
    "\n",
    "filelist = ['dummy5_full.csv','dummy3_full.csv','dummy2_full.csv']#,'dummy1_full.csv']#,\n",
    "           # 'dummybbvs_1.csv', 'dummybbvs_2.csv']\n",
    "\n",
    "def get_data(filelist):\n",
    "    d = defaultdict(dict)\n",
    "    for idx, filename in enumerate(filelist):\n",
    "        d[idx] = Subject(filename)\n",
    "        d[idx].get_METS()\n",
    "        d[idx].get_HRV()\n",
    "        d[idx].get_PA()\n",
    "        #d[idx].get_sleep_grid(q_sleep=[0.35,0.4,0.45], bed_time = '20:00',wake_time = '12:00', seq_length = 15)\n",
    "        #d[idx].get_windows()\n",
    "        #d[idx].get_SRI(q_sleep=0.4)\n",
    "        #d[idx].get_ARI()\n",
    "        #d[idx].get_cosinor()\n",
    "        #d[idx].get_SSA()\n",
    "        #d[idx].get_nonlinear()\n",
    "        #d[idx].Crespo(zeta=15, zeta_r=50, zeta_a=2,t=.50, alpha='7h', beta='1h',\n",
    "        #              estimate_zeta=False, seq_length_max=100, verbose=False)\n",
    "        #Depends on running METS,PA,sleep, windows, SRI, SSA and nonlinear first\n",
    "        #d[idx].get_daily_stats()\n",
    "    return d\n",
    "\n",
    "d = get_data(filelist)"
   ]
  },
  {
   "cell_type": "code",
   "execution_count": 88,
   "metadata": {},
   "outputs": [
    {
     "name": "stdout",
     "output_type": "stream",
     "text": [
      "The autoreload extension is already loaded. To reload it, use:\n",
      "  %reload_ext autoreload\n",
      "      TST_avg  TST_std  SEff_avg    SEff_std AwaNo_avg AwaNo_std WASO_avg  \\\n",
      "0.30  354.333  45.6976  0.997696  0.00564399  0.166667  0.408248        1   \n",
      "0.35  380.167  40.4693  0.997701  0.00563101  0.166667  0.408248        1   \n",
      "0.40      400  46.2861         1           0         0         0        0   \n",
      "0.45  427.333  34.8406         1           0         0         0        0   \n",
      "0.50    487.5  48.1238         1           0         0         0        0   \n",
      "0.55  570.333  76.7976  0.982324   0.0369732  0.833333   1.60208  12.3333   \n",
      "0.30  374.167  73.6517  0.997004   0.0073393  0.166667  0.408248  1.33333   \n",
      "0.35  414.833  56.1406  0.998004   0.0048892  0.166667  0.408248        1   \n",
      "0.40  436.333  41.5002         1           0         0         0        0   \n",
      "0.45  480.167  71.9762  0.994518   0.0134292  0.166667  0.408248      2.5   \n",
      "0.50  521.833  84.7005  0.995077    0.012058  0.166667  0.408248  2.33333   \n",
      "0.55  561.333  69.7615  0.981158   0.0292747  0.666667    1.0328  10.1667   \n",
      "0.30   374.25  35.7713  0.994713    0.010574      0.25       0.5     1.75   \n",
      "0.35      377  36.5605         1           0         0         0        0   \n",
      "0.40      391  37.9385         1           0         0         0        0   \n",
      "0.45   575.75  219.286  0.950225   0.0995501         2         4    44.25   \n",
      "0.50      647  176.246  0.957244   0.0587168      1.75   2.87228    35.25   \n",
      "0.55      647  187.665  0.968251   0.0387021       1.5   2.38048     25.5   \n",
      "\n",
      "     WASO_std id  \n",
      "0.30  2.44949  0  \n",
      "0.35  2.44949  0  \n",
      "0.40        0  0  \n",
      "0.45        0  0  \n",
      "0.50        0  0  \n",
      "0.55  26.4852  0  \n",
      "0.30  3.26599  1  \n",
      "0.35  2.44949  1  \n",
      "0.40        0  1  \n",
      "0.45  6.12372  1  \n",
      "0.50  5.71548  1  \n",
      "0.55  15.7787  1  \n",
      "0.30      3.5  2  \n",
      "0.35        0  2  \n",
      "0.40        0  2  \n",
      "0.45     88.5  2  \n",
      "0.50  52.4428  2  \n",
      "0.55  34.0735  2  \n"
     ]
    }
   ],
   "source": [
    "%load_ext autoreload\n",
    "%autoreload 2\n",
    "warnings.filterwarnings('ignore')\n",
    "from preprocessing import Subject\n",
    "\n",
    "quantiles_list = [0.3,0.35,0.4,0.45,0.5,0.55]\n",
    "features = ['TST_avg','TST_std','SEff_avg','SEff_std','AwaNo_avg','AwaNo_std','WASO_avg','WASO_std','id']\n",
    "features_id = ['TST_avg','TST_std','SEff_avg','SEff_std','AwaNo_avg','AwaNo_std','WASO_avg','WASO_std']\n",
    "quant_pop = pd.DataFrame(columns = features)\n",
    "\n",
    "for idx in d.keys():\n",
    "     d[idx].get_sleep_grid(q_sleep=quantiles_list, bed_time = '20:00',wake_time = '12:00', seq_length = 15)\n",
    "     df_quants = pd.DataFrame(columns = features, index = pd.Series(quantiles_list))\n",
    "     for qtl in quantiles_list:\n",
    "        df_quants.loc[qtl,'id'] = idx\n",
    "        df_quants.loc[qtl,'TST_avg'] = d[idx].sleep_rec[qtl]['TST'].astype('timedelta64[s]').mean()/60 #in minutes\n",
    "        df_quants.loc[qtl,'TST_std'] = d[idx].sleep_rec[qtl]['TST'].astype('timedelta64[s]').std()/60 # in minutes\n",
    "        df_quants.loc[qtl,'SEff_avg'] = d[idx].sleep_rec[qtl]['SEff'].mean()\n",
    "        df_quants.loc[qtl,'SEff_std'] = d[idx].sleep_rec[qtl]['SEff'].std()\n",
    "        df_quants.loc[qtl,'AwaNo_avg'] = d[idx].sleep_rec[qtl]['AwaNo'].mean()\n",
    "        df_quants.loc[qtl,'AwaNo_std'] = d[idx].sleep_rec[qtl]['AwaNo'].std()\n",
    "        df_quants.loc[qtl,'WASO_avg'] = d[idx].sleep_rec[qtl]['WASO'].mean()\n",
    "        df_quants.loc[qtl,'WASO_std'] = d[idx].sleep_rec[qtl]['WASO'].std()\n",
    "     d[idx].quant_stats = df_quants\n",
    "     quant_pop = pd.concat([quant_pop,df_quants],axis=0)\n",
    "    \n",
    "print(quant_pop)"
   ]
  },
  {
   "cell_type": "code",
   "execution_count": 89,
   "metadata": {},
   "outputs": [
    {
     "data": {
      "image/png": "[encoded data removed]",
      "text/plain": [
       "<Figure size 1008x576 with 1 Axes>"
      ]
     },
     "metadata": {
      "needs_background": "light"
     },
     "output_type": "display_data"
    }
   ],
   "source": [
    "quant_pop = quant_pop.rename_axis('quantile')\n",
    "population_avg = quant_pop.groupby('quantile').apply(np.mean)\n",
    "population_avg = population_avg.rename_axis('quantile')\n",
    "\n",
    "#plt.bar(x=population_avg.id, height=population_avg['TST_avg'])\n",
    "for feat in features_id:\n",
    "    plt.scatter(population_avg.index, population_avg[feat], label=feat)\n",
    "plt.legend()\n",
    "plt.show()"
   ]
  }
 ],
 "metadata": {
  "kernelspec": {
   "display_name": "Python 3",
   "language": "python",
   "name": "python3"
  },
  "language_info": {
   "codemirror_mode": {
    "name": "ipython",
    "version": 3
   },
   "file_extension": ".py",
   "mimetype": "text/x-python",
   "name": "python",
   "nbconvert_exporter": "python",
   "pygments_lexer": "ipython3",
   "version": "3.7.6"
  }
 },
 "nbformat": 4,
 "nbformat_minor": 4
}
