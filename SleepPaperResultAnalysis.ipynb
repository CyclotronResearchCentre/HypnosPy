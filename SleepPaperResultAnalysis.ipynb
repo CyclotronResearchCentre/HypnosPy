{
 "cells": [
  {
   "cell_type": "code",
   "execution_count": 1,
   "metadata": {
    "ExecuteTime": {
     "end_time": "2020-08-07T11:53:52.714430Z",
     "start_time": "2020-08-07T11:53:52.086759Z"
    }
   },
   "outputs": [],
   "source": [
    "import pandas as pd\n",
    "import numpy as np\n",
    "import matplotlib.pyplot as plt\n",
    "import seaborn as sns\n",
    "import statsmodels.stats.api as sms\n",
    "from datetime import datetime"
   ]
  },
  {
   "cell_type": "code",
   "execution_count": 2,
   "metadata": {
    "ExecuteTime": {
     "end_time": "2020-08-07T11:53:52.766746Z",
     "start_time": "2020-08-07T11:53:52.750083Z"
    }
   },
   "outputs": [],
   "source": [
    "\n",
    "def myfilter(df, Q, W, T):\n",
    "    return df[(np.isclose(df[\"quantile\"], Q)) & (np.isclose(df[\"window_lengths\"], W))\n",
    "              & (np.isclose(df[\"time_merge_blocks\"], T))]\n",
    "\n",
    "def dropnas(df, subset=[\"onset_psg\", \"offset_psg\"]):\n",
    "    return df.dropna(subset=subset)\n",
    "\n",
    "def get_mse(df, results=[\"mse_psg_hr\"]):\n",
    "    mse_results = df.groupby(\"exp_id\")[[*results, \"quantile\", \"window_lengths\", \"time_merge_blocks\"]].mean()\n",
    "    mse_exp_ids = mse_results.sort_values(by=results[0], ascending=True)\n",
    "    return mse_exp_ids\n",
    "\n",
    "def transform_datetime(df):\n",
    "    on_off_set_keys = [k for k in df.keys() if k.startswith(\"onset\")]\n",
    "    on_off_set_keys += [k for k in df.keys() if k.startswith(\"offset\")]\n",
    "    \n",
    "    for col in on_off_set_keys:\n",
    "        df[col] = pd.to_datetime(df[col])\n",
    "    return df\n",
    "\n",
    "def ci95(values, ci=0.95):\n",
    "    d = sms.DescrStatsW(values)\n",
    "    mean_minus_ci, mean_plus_ci = d.tconfint_mean(alpha=ci)\n",
    "    return d.mean, mean_plus_ci - d.mean\n",
    "\n",
    "\n",
    "def time_deviation(df, col1, col2):\n",
    "    # Version with mean +- std:\n",
    "    #return (df[col1] - df[col2]).mean().total_seconds()/60., (df[col1] - df[col2]).std().total_seconds()/60.\n",
    "    # Version with mean +- 95CI:\n",
    "    return ci95((df[col1] - df[col2]).dt.total_seconds()/60.)\n",
    "    \n",
    "\n",
    "def get_hparams(df):\n",
    "    return df[\"quantile\"].values[0], df[\"window_lengths\"].values[0], df[\"time_merge_blocks\"].values[0]\n",
    "\n",
    "def get_by_expid(df, expid):\n",
    "    return df[df[\"exp_id\"] == expid]\n",
    "\n",
    "def get_diary(diary, pid):\n",
    "    return diary[diary[\"pid\"] == pid]\n",
    "\n",
    "\n",
    "def fix_mesa_missing_diaries(df_in, diff):\n",
    "    df = df_in.copy()\n",
    "    mesa_diary = pd.read_csv(\"./data/diaries/mesa_diary.csv\")\n",
    "    mesa_diary[\"pid\"] = mesa_diary[\"pid\"].astype(str)\n",
    "    mesa_diary[\"sleep_onset\"] = pd.to_datetime(mesa_diary[\"sleep_onset\"])\n",
    "    mesa_diary[\"sleep_offset\"] = pd.to_datetime(mesa_diary[\"sleep_offset\"])\n",
    "\n",
    "    missing = df[diff.isnull()]\n",
    "    for rid, row in missing.iterrows():\n",
    "\n",
    "        pid = str(row[\"pid\"])\n",
    "        onset = row[\"onset_diary\"]\n",
    "        offset = row[\"offset_diary\"]\n",
    "\n",
    "        #print(rid, onset, offset)\n",
    "\n",
    "        # only onset is null\n",
    "        if pd.isnull(onset) and not pd.isnull(offset):\n",
    "            d = get_diary(mesa_diary, pid)\n",
    "            new_onset = d[d[\"sleep_offset\"] == offset][\"sleep_onset\"].values[0]\n",
    "            df.loc[rid, \"onset_diary\"] = new_onset\n",
    "\n",
    "        # only offset is null\n",
    "        if pd.isnull(offset) and not pd.isnull(onset):\n",
    "            d = get_diary(mesa_diary, pid)\n",
    "            new_offset = d[d[\"sleep_onset\"] == onset][\"sleep_offset\"].values[0]\n",
    "            df.loc[rid, \"offset_diary\"] = new_offset\n",
    "            \n",
    "    return df\n",
    "\n",
    "def calculate_table(df, exptype, inverse=False, labels=True):\n",
    "    a, b = exptype.split(\"_\")\n",
    "    if inverse:\n",
    "        tmp = a\n",
    "        a = b\n",
    "        b = tmp\n",
    "    \n",
    "    print(\"Comparing %s and %s\" % (a,b))\n",
    "    best_exp = get_mse(df, results=[\"mse_\" + exptype]).head(1)\n",
    "    Q, W, T = get_hparams(best_exp)\n",
    "    if labels:\n",
    "        print(\"BEST parameters: Q: %.2f, W: %.2f, T: %.2f\" % (Q, W, T))\n",
    "\n",
    "    best = myfilter(df, Q, W, T).copy()\n",
    "\n",
    "    best[\"tst_\" + a] = best[\"offset_\" + a] - best[\"onset_\" + a]\n",
    "    best[\"tst_\" + b] = best[\"offset_\" + b] - best[\"onset_\" + b]\n",
    "\n",
    "    if labels:\n",
    "        print(\"TST: %.2f \\pm %.2f\" % time_deviation(best, \"tst_\" + a, \"tst_\" + b))\n",
    "        print(\"MSE: %.2f \\pm %.2f\" % ci95(best[\"mse_\" + exptype].values))\n",
    "        print(\"Cohens: %.2f \\pm %.2f\" % ci95(best[\"cohens_\" + exptype].values))\n",
    "\n",
    "        print(\"ONSET: %.2f \\pm %.2f\" % time_deviation(best, \"onset_\" + a, \"onset_\" + b))\n",
    "        print(\"OFFSET: %.2f \\pm %.2f\" % time_deviation(best, \"offset_\" + a, \"offset_\" + b))\n",
    "    else:\n",
    "        print(\"%.2f \\pm %.2f\" % time_deviation(best, \"tst_\" + a, \"tst_\" + b))\n",
    "        print(\"%.2f \\pm %.2f\" % ci95(best[\"mse_\" + exptype].values))\n",
    "        print(\"%.2f \\pm %.2f\" % ci95(best[\"cohens_\" + exptype].values))\n",
    "\n",
    "        print(\"%.2f \\pm %.2f\" % time_deviation(best, \"onset_\" + a, \"onset_\" + b))\n",
    "        print(\"%.2f \\pm %.2f\" % time_deviation(best, \"offset_\" + a, \"offset_\" + b))\n"
   ]
  },
  {
   "cell_type": "markdown",
   "metadata": {},
   "source": [
    "# Results for MESA"
   ]
  },
  {
   "cell_type": "code",
   "execution_count": 3,
   "metadata": {
    "ExecuteTime": {
     "end_time": "2020-08-07T11:54:02.722849Z",
     "start_time": "2020-08-07T11:53:54.023366Z"
    }
   },
   "outputs": [
    {
     "name": "stdout",
     "output_type": "stream",
     "text": [
      "Removing extra 17\n",
      "189 out of 1154 are diseased. (16.38%)\n",
      "965 out of 1154 are healthy. (83.62%)\n"
     ]
    }
   ],
   "source": [
    "# Analyising MESA\n",
    "df_mesa60 = pd.read_csv(\"./results/MESA/results_MESA_hr_60_240.csv.gz\")\n",
    "# df_mesa30 = pd.read_csv(\"./results/results_MESA_hr_30_240.csv.gz\")\n",
    "df_mesa30 = pd.read_csv(\"./results/MESA/results_MESA_hr_30_240_best.csv.gz\") # I had to run again to collect diaries\n",
    "df_mesafull = pd.read_csv(\"./results/MESA/results_MESA_hr_full.csv.gz\")\n",
    "\n",
    "df_mesafull = dropnas(df_mesafull)\n",
    "df_mesa30 = dropnas(df_mesa30)\n",
    "df_mesa60 = dropnas(df_mesa60)\n",
    "\n",
    "df_mesafull = transform_datetime(df_mesafull)\n",
    "df_mesa30 = transform_datetime(df_mesa30)\n",
    "df_mesa60 = transform_datetime(df_mesa60)\n",
    "\n",
    "# Loads information about mesa participants\n",
    "# insmnia5, rstlesslgs5, slpapnea5\n",
    "mesa = pd.read_csv(\"./mesa-sleep-dataset-0.3.0.csv\")\n",
    "\n",
    "# Remove pids without diary\n",
    "pids_without_diary = set(mesa[mesa[\"bedtmwkday5c\"].isnull()][\"mesaid\"].unique())\n",
    "pids_without_diary = pids_without_diary.union(set(mesa[mesa[\"bedtmwkend5c\"].isnull()][\"mesaid\"].unique()))\n",
    "pids_without_diary = pids_without_diary.union(set(mesa[mesa[\"waketmwkday5c\"].isnull()][\"mesaid\"].unique()))\n",
    "pids_without_diary = pids_without_diary.union(set(mesa[mesa[\"waketmwkend5c\"].isnull()][\"mesaid\"].unique()))\n",
    "\n",
    "diff = (df_mesa30[\"offset_diary\"] - df_mesa30[\"onset_diary\"])\n",
    "df_mesa30 = fix_mesa_missing_diaries(df_mesa30, diff)\n",
    "diff = (df_mesa30[\"offset_diary\"] - df_mesa30[\"onset_diary\"])\n",
    "from_mesa30 = set(df_mesa30[diff.isnull()][\"pid\"].unique())\n",
    "print(\"Removing extra %d\" % (len(from_mesa30)))\n",
    "pids_without_diary = pids_without_diary.union(from_mesa30)\n",
    "\n",
    "mesa = mesa[~mesa[\"mesaid\"].isin(pids_without_diary)]\n",
    "\n",
    "mesa_diseased = mesa[(mesa[\"rstlesslgs5\"] == 1) | (mesa[\"insmnia5\"] == 1) | (mesa[\"slpapnea5\"] == 1)][\"mesaid\"].unique()\n",
    "mesa_healthy = mesa[~((mesa[\"rstlesslgs5\"] == 1) | (mesa[\"insmnia5\"] == 1) | (mesa[\"slpapnea5\"] == 1))][\"mesaid\"].unique()\n",
    "\n",
    "df_mesa30 = df_mesa30[df_mesa30[\"pid\"].isin(mesa[\"mesaid\"])]\n",
    "df_mesa30_diseased = df_mesa30[df_mesa30[\"pid\"].isin(mesa_diseased)]\n",
    "df_mesa30_healthy = df_mesa30[df_mesa30[\"pid\"].isin(mesa_healthy)]\n",
    "\n",
    "df_mesa30[\"diseased\"] = df_mesa30[\"pid\"].isin(mesa_diseased)\n",
    "\n",
    "print(\"%d out of %d are diseased. (%.2f%%)\" % (df_mesa30_diseased[\"pid\"].unique().shape[0],\n",
    "                                               df_mesa30[\"pid\"].unique().shape[0],\n",
    "                                               100.*df_mesa30_diseased[\"pid\"].unique().shape[0]/df_mesa30[\"pid\"].unique().shape[0]\n",
    "                                               )\n",
    "     )\n",
    "\n",
    "print(\"%d out of %d are healthy. (%.2f%%)\" % (df_mesa30_healthy[\"pid\"].unique().shape[0],\n",
    "                                               df_mesa30[\"pid\"].unique().shape[0],\n",
    "                                               100.*df_mesa30_healthy[\"pid\"].unique().shape[0]/df_mesa30[\"pid\"].unique().shape[0]\n",
    "                                               )\n",
    "     )\n",
    "\n"
   ]
  },
  {
   "cell_type": "code",
   "execution_count": 4,
   "metadata": {
    "ExecuteTime": {
     "end_time": "2020-08-07T11:54:02.779036Z",
     "start_time": "2020-08-07T11:54:02.724011Z"
    }
   },
   "outputs": [
    {
     "name": "stdout",
     "output_type": "stream",
     "text": [
      "-- Full dataset:\n",
      "Comparing psg and hr\n",
      "-33.15 \\pm 0.12\n",
      "0.10 \\pm 0.00\n",
      "0.66 \\pm 0.00\n",
      "23.39 \\pm 0.10\n",
      "-9.76 \\pm 0.08\n",
      "----------------------------------------\n",
      "-- Diseased participants:\n",
      "Comparing psg and hr\n",
      "-27.46 \\pm 0.28\n",
      "0.10 \\pm 0.00\n",
      "0.65 \\pm 0.00\n",
      "21.68 \\pm 0.23\n",
      "-5.78 \\pm 0.20\n",
      "----------------------------------------\n",
      "-- Healthy participants:\n",
      "Comparing psg and hr\n",
      "-34.27 \\pm 0.13\n",
      "0.10 \\pm 0.00\n",
      "0.66 \\pm 0.00\n",
      "23.73 \\pm 0.11\n",
      "-10.54 \\pm 0.09\n",
      "----------------------------------------\n",
      "-- Full dataset:\n",
      "Comparing psg and diary\n",
      "-34.04 \\pm 0.18\n",
      "0.13 \\pm 0.00\n",
      "0.62 \\pm 0.00\n",
      "6.25 \\pm 0.11\n",
      "-27.79 \\pm 0.16\n",
      "----------------------------------------\n",
      "-- Diseased participants:\n",
      "Comparing psg and diary\n",
      "-23.75 \\pm 0.42\n",
      "0.13 \\pm 0.00\n",
      "0.60 \\pm 0.00\n",
      "6.92 \\pm 0.25\n",
      "-16.84 \\pm 0.37\n",
      "----------------------------------------\n",
      "-- Healthy participants:\n",
      "Comparing psg and diary\n",
      "-36.05 \\pm 0.19\n",
      "0.13 \\pm 0.00\n",
      "0.62 \\pm 0.00\n",
      "6.12 \\pm 0.12\n",
      "-29.93 \\pm 0.17\n",
      "----------------------------------------\n"
     ]
    }
   ],
   "source": [
    "# Table 2 - HR part\n",
    "print(\"-- Full dataset:\")\n",
    "calculate_table(df_mesa30, \"psg_hr\", labels=False)\n",
    "print(40*'-')\n",
    "print(\"-- Diseased participants:\")\n",
    "calculate_table(df_mesa30_diseased, \"psg_hr\", labels=False)\n",
    "print(40*'-')\n",
    "print(\"-- Healthy participants:\")\n",
    "calculate_table(df_mesa30_healthy, \"psg_hr\", labels=False)\n",
    "print(40*'-')\n",
    "\n",
    "# Table 2 - Diary part\n",
    "print(\"-- Full dataset:\")\n",
    "calculate_table(df_mesa30, \"diary_psg\", inverse=True, labels=False)\n",
    "print(40*'-')\n",
    "print(\"-- Diseased participants:\")\n",
    "calculate_table(df_mesa30_diseased, \"diary_psg\", inverse=True, labels=False)\n",
    "print(40*'-')\n",
    "print(\"-- Healthy participants:\")\n",
    "calculate_table(df_mesa30_healthy, \"diary_psg\", inverse=True, labels=False)\n",
    "print(40*'-')\n"
   ]
  },
  {
   "cell_type": "code",
   "execution_count": 5,
   "metadata": {
    "ExecuteTime": {
     "end_time": "2020-08-07T11:54:02.785894Z",
     "start_time": "2020-08-07T11:54:02.780257Z"
    }
   },
   "outputs": [],
   "source": [
    "# Need to make this plot more beautiful\n",
    "def plot_one_bland_altman(df_in, a, b, labela, labelb):\n",
    "    \n",
    "    sns.set_context(\"talk\",  rc={\"axes.linewidth\": 2, \"font.family\": \"serif\", \n",
    "                                 'image.cmap': 'plasma', \"font.size\": 18})\n",
    "    \n",
    "    df = df_in.copy()\n",
    "    df[\"tst_\" + a] = df[\"offset_\" + a] - df[\"onset_\" + a]\n",
    "    df[\"tst_\" + b] = df[\"offset_\" + b] - df[\"onset_\" + b]\n",
    "    df[\"tst_average\"] = (df[\"tst_\" + a] + df[\"tst_\" + b])/2.\n",
    "    df[\"tst_diff\"] = (df[\"tst_\" + a] - df[\"tst_\" + b])\n",
    "\n",
    "    df[\"tst_average\"] = df['tst_average'].dt.total_seconds()/3600\n",
    "    df[\"tst_diff\"] = df['tst_diff'].dt.total_seconds()/3600\n",
    "\n",
    "    #return df\n",
    "    \n",
    "    fig = plt.figure(figsize=(14, 8))\n",
    "    plt.scatter(df['tst_average'], df['tst_diff'], color='blue')\n",
    "    plt.axhline(df['tst_diff'].mean(), color='grey')\n",
    "    plt.axhline(df['tst_diff'].mean() + df['tst_diff'].std(), linestyle='dashed', color='grey')\n",
    "    plt.axhline(df['tst_diff'].mean() - df['tst_diff'].std(), linestyle='dashed', color='grey')\n",
    "    plt.xlabel('TST average %s-%s (hours)' % (labela, labelb))\n",
    "    plt.ylabel('TST difference %s-%s (hours)' % (labela, labelb))\n",
    "    plt.title('Bland-Altman plot comparing %s algorithm and %s.' % (labela, labelb))\n",
    "    plt.show(fig)"
   ]
  },
  {
   "cell_type": "code",
   "execution_count": 6,
   "metadata": {
    "ExecuteTime": {
     "end_time": "2020-08-07T11:54:02.795388Z",
     "start_time": "2020-08-07T11:54:02.787030Z"
    }
   },
   "outputs": [],
   "source": [
    "# Need to make this plot more beautiful\n",
    "def plot_bland_altman_subsets(plotname, df_in, a, b, labela, labelb, sepcolumn, sepcolors, legendlabels):\n",
    "    \n",
    "    sns.set_context(\"talk\",  rc={\"axes.linewidth\": 2, \"font.family\": 'sans-serif', 'font.sans-serif': \"Tahoma\",\n",
    "                                 'image.cmap': 'plasma', \"font.size\": 18})\n",
    "    plt.rc('font', family='serif')\n",
    "    df = df_in.copy()\n",
    "    df[\"tst_\" + a] = df[\"offset_\" + a] - df[\"onset_\" + a]\n",
    "    df[\"tst_\" + b] = df[\"offset_\" + b] - df[\"onset_\" + b]\n",
    "    df[\"tst_average\"] = (df[\"tst_\" + a] + df[\"tst_\" + b])/2.\n",
    "    df[\"tst_diff\"] = (df[\"tst_\" + a] - df[\"tst_\" + b])\n",
    "\n",
    "    df[\"tst_average\"] = df['tst_average'].dt.total_seconds()/3600\n",
    "    df[\"tst_diff\"] = df['tst_diff'].dt.total_seconds()/3600\n",
    "\n",
    "    #return df\n",
    "    \n",
    "    fig = plt.figure(figsize=(14, 8))\n",
    "    \n",
    "    for i, v in enumerate(df_mesa30[sepcolumn].unique()):\n",
    "        print(i, v)\n",
    "        dfcut = df[df[sepcolumn] == v]\n",
    "        plt.scatter(dfcut['tst_average'], dfcut['tst_diff'], color= sepcolors[i], \n",
    "                    label=legendlabels[i], alpha=0.8)\n",
    "    \n",
    "        \n",
    "    plt.axhline(df['tst_diff'].mean(), color='grey')\n",
    "    plt.axhline(df['tst_diff'].mean() + df['tst_diff'].std(), linestyle='dashed', color='grey')\n",
    "    plt.axhline(df['tst_diff'].mean() - df['tst_diff'].std(), linestyle='dashed', color='grey')\n",
    "    plt.xlabel('TST average %s-%s (hours)' % (labela, labelb))\n",
    "    plt.ylabel('TST difference %s-%s (hours)' % (labela, labelb))\n",
    "    plt.title('Bland-Altman plot comparing %s and %s.' % (labela, labelb))\n",
    "    \n",
    "    plt.legend(loc=\"lower center\", bbox_to_anchor=(0.5, -0.24), ncol=len(legendlabels))\n",
    "    #plt.show(fig)\n",
    "    \n",
    "    plt.savefig(plotname, dpi=200, bbox_inches='tight', facecolor='w', edgecolor='w', orientation='portrait', \n",
    "                transparent=True, pad_inches=0.01)\n",
    "    "
   ]
  },
  {
   "cell_type": "code",
   "execution_count": 7,
   "metadata": {
    "ExecuteTime": {
     "end_time": "2020-08-07T11:54:03.100982Z",
     "start_time": "2020-08-07T11:54:02.796417Z"
    }
   },
   "outputs": [
    {
     "name": "stdout",
     "output_type": "stream",
     "text": [
      "0 False\n",
      "1 True\n"
     ]
    },
    {
     "data": {
      "image/png": "[encoded data removed]",
      "text/plain": [
       "<Figure size 1008x576 with 1 Axes>"
      ]
     },
     "metadata": {
      "needs_background": "light"
     },
     "output_type": "display_data"
    }
   ],
   "source": [
    "# TODO: have different colors\n",
    "plot_bland_altman_subsets(\"mesa_bland_altman_psg_diary.pdf\", df_mesa30, \"psg\", \"diary\", \"PSG\", \"Diary\", \n",
    "                          sepcolumn=\"diseased\", sepcolors=[\"blue\", \"orange\"], \n",
    "                         legendlabels=[\"Healthy\", \"Diseased\"])"
   ]
  },
  {
   "cell_type": "code",
   "execution_count": 8,
   "metadata": {
    "ExecuteTime": {
     "end_time": "2020-08-07T11:54:03.384150Z",
     "start_time": "2020-08-07T11:54:03.102399Z"
    }
   },
   "outputs": [
    {
     "name": "stdout",
     "output_type": "stream",
     "text": [
      "0 False\n",
      "1 True\n"
     ]
    },
    {
     "data": {
      "image/png": "[encoded data removed]",
      "text/plain": [
       "<Figure size 1008x576 with 1 Axes>"
      ]
     },
     "metadata": {
      "needs_background": "light"
     },
     "output_type": "display_data"
    }
   ],
   "source": [
    "#plot_one_bland_altman(df_mesa30, \"psg\", \"hr\", \"PSG\", \"HR\")\n",
    "\n",
    "\n",
    "# TODO: have different colors\n",
    "plot_bland_altman_subsets(\"mesa_bland_altman_psg_hr.pdf\", df_mesa30, \"psg\", \"hr\", \"PSG\", \"HR algorithm\", \n",
    "                          sepcolumn=\"diseased\", sepcolors=[\"blue\", \"orange\"], \n",
    "                         legendlabels=[\"Healthy\", \"Diseased\"])"
   ]
  },
  {
   "cell_type": "markdown",
   "metadata": {},
   "source": [
    "# Results for physionet apple watch "
   ]
  },
  {
   "cell_type": "code",
   "execution_count": 9,
   "metadata": {
    "ExecuteTime": {
     "end_time": "2020-08-07T11:54:03.409426Z",
     "start_time": "2020-08-07T11:54:03.385136Z"
    }
   },
   "outputs": [
    {
     "name": "stdout",
     "output_type": "stream",
     "text": [
      "-- Full dataset:\n",
      "Comparing psg and hr\n",
      "BEST parameters: Q: 0.80, W: 30.00, T: 360.00\n",
      "TST: -23.23 \\pm 0.42\n",
      "MSE: 0.06 \\pm 0.00\n",
      "Cohens: 0.67 \\pm 0.00\n",
      "ONSET: 15.12 \\pm 0.16\n",
      "OFFSET: -8.10 \\pm 0.39\n",
      "Comparing psg and vanhees\n",
      "44.39 \\pm 1.30\n",
      "0.12 \\pm 0.00\n",
      "0.71 \\pm 0.00\n",
      "-21.77 \\pm 0.96\n",
      "22.61 \\pm 1.00\n"
     ]
    }
   ],
   "source": [
    "#df_apple = pd.read_csv(\"./results/AppleWatch/results_apple_hr.csv.gz\")\n",
    "df_apple = pd.read_csv(\"./results/AppleWatch/results_apple_hr_best.csv.gz\")\n",
    "df_apple = dropnas(df_apple)\n",
    "df_apple = transform_datetime(df_apple)\n",
    "\n",
    "# Table 2 - HR part\n",
    "print(\"-- Full dataset:\")\n",
    "calculate_table(df_apple, \"psg_hr\", labels=True)\n",
    "\n",
    "calculate_table(df_apple, \"psg_vanhees\", labels=False)\n"
   ]
  },
  {
   "cell_type": "code",
   "execution_count": 10,
   "metadata": {
    "ExecuteTime": {
     "end_time": "2020-08-07T11:54:03.557776Z",
     "start_time": "2020-08-07T11:54:03.410768Z"
    }
   },
   "outputs": [
    {
     "name": "stdout",
     "output_type": "stream",
     "text": [
      "Comparing psg and vanhees\n",
      "BEST parameters: Q: 0.42, W: 27.50, T: 360.00\n",
      "TST: -13.89 \\pm 0.37\n",
      "MSE: 0.04 \\pm 0.00\n",
      "Cohens: 0.82 \\pm 0.00\n",
      "ONSET: 3.94 \\pm 0.12\n",
      "OFFSET: -9.94 \\pm 0.36\n"
     ]
    }
   ],
   "source": [
    "df_apple_vanhees = pd.read_csv(\"./results/AppleWatch/results_apple_vanhees.csv.gz\")\n",
    "df_apple_vanhees = dropnas(df_apple_vanhees)\n",
    "df_apple_vanhees = transform_datetime(df_apple_vanhees)\n",
    "\n",
    "calculate_table(df_apple_vanhees, \"psg_vanhees\", labels=True)"
   ]
  },
  {
   "cell_type": "markdown",
   "metadata": {},
   "source": [
    "# Results for MMASH"
   ]
  },
  {
   "cell_type": "code",
   "execution_count": 11,
   "metadata": {
    "ExecuteTime": {
     "end_time": "2020-08-07T11:54:03.586639Z",
     "start_time": "2020-08-07T11:54:03.558851Z"
    }
   },
   "outputs": [
    {
     "name": "stdout",
     "output_type": "stream",
     "text": [
      "-- Full dataset:\n",
      "Comparing diary and hr\n",
      "BEST parameters: Q: 0.35, W: 32.50, T: 240.00\n",
      "TST: -14.08 \\pm 1.26\n",
      "MSE: 0.07 \\pm 0.00\n",
      "Cohens: 0.85 \\pm 0.00\n",
      "ONSET: -15.75 \\pm 0.68\n",
      "OFFSET: -29.83 \\pm 0.97\n",
      "Comparing diary and vanhees\n",
      "-60.17 \\pm 1.18\n",
      "0.08 \\pm 0.00\n",
      "0.83 \\pm 0.00\n",
      "15.13 \\pm 0.62\n",
      "-45.04 \\pm 1.08\n"
     ]
    }
   ],
   "source": [
    "# MMASH: hr, vanhees, diary\n",
    "#df_mmash = pd.read_csv(\"./results/MMASH/results_MMASH_HR.csv.gz\")\n",
    "df_mmash = pd.read_csv(\"./results/MMASH/results_MMASH_best.csv.gz\")\n",
    "df_mmash = dropnas(df_mmash, subset=[\"onset_diary\", \"offset_diary\"])\n",
    "df_mmash = transform_datetime(df_mmash)\n",
    "\n",
    "# Table 2 - HR part\n",
    "print(\"-- Full dataset:\")\n",
    "calculate_table(df_mmash, \"diary_hr\", labels=True)\n",
    "calculate_table(df_mmash, \"diary_vanhees\", labels=False)\n"
   ]
  },
  {
   "cell_type": "code",
   "execution_count": 12,
   "metadata": {
    "ExecuteTime": {
     "end_time": "2020-08-07T11:54:03.933509Z",
     "start_time": "2020-08-07T11:54:03.587605Z"
    }
   },
   "outputs": [
    {
     "name": "stdout",
     "output_type": "stream",
     "text": [
      "Z-ANGLE\n",
      "Comparing diary and vanhees\n",
      "BEST parameters: Q: 0.40, W: 42.50, T: 60.00\n",
      "TST: -44.94 \\pm 1.16\n",
      "MSE: 0.06 \\pm 0.00\n",
      "Cohens: 0.86 \\pm 0.00\n",
      "ONSET: 0.91 \\pm 0.42\n",
      "OFFSET: -44.02 \\pm 0.97\n",
      "----------------------------------------\n",
      "PITCH AND ROLL\n",
      "Comparing diary and vanheespr\n",
      "BEST parameters: Q: 0.40, W: 35.00, T: 60.00\n",
      "TST: -51.45 \\pm 1.05\n",
      "MSE: 0.06 \\pm 0.00\n",
      "Cohens: 0.88 \\pm 0.00\n",
      "ONSET: 7.40 \\pm 0.25\n",
      "OFFSET: -44.06 \\pm 0.97\n"
     ]
    },
    {
     "data": {
      "text/html": [
       "<div>\n",
       "<style scoped>\n",
       "    .dataframe tbody tr th:only-of-type {\n",
       "        vertical-align: middle;\n",
       "    }\n",
       "\n",
       "    .dataframe tbody tr th {\n",
       "        vertical-align: top;\n",
       "    }\n",
       "\n",
       "    .dataframe thead th {\n",
       "        text-align: right;\n",
       "    }\n",
       "</style>\n",
       "<table border=\"1\" class=\"dataframe\">\n",
       "  <thead>\n",
       "    <tr style=\"text-align: right;\">\n",
       "      <th></th>\n",
       "      <th>mse_diary_vanheespr</th>\n",
       "      <th>quantile</th>\n",
       "      <th>window_lengths</th>\n",
       "      <th>time_merge_blocks</th>\n",
       "    </tr>\n",
       "    <tr>\n",
       "      <th>exp_id</th>\n",
       "      <th></th>\n",
       "      <th></th>\n",
       "      <th></th>\n",
       "      <th></th>\n",
       "    </tr>\n",
       "  </thead>\n",
       "  <tbody>\n",
       "    <tr>\n",
       "      <th>1007</th>\n",
       "      <td>0.055966</td>\n",
       "      <td>0.400</td>\n",
       "      <td>35.0</td>\n",
       "      <td>60</td>\n",
       "    </tr>\n",
       "    <tr>\n",
       "      <th>941</th>\n",
       "      <td>0.055966</td>\n",
       "      <td>0.375</td>\n",
       "      <td>35.0</td>\n",
       "      <td>60</td>\n",
       "    </tr>\n",
       "    <tr>\n",
       "      <th>875</th>\n",
       "      <td>0.055966</td>\n",
       "      <td>0.350</td>\n",
       "      <td>35.0</td>\n",
       "      <td>60</td>\n",
       "    </tr>\n",
       "    <tr>\n",
       "      <th>1073</th>\n",
       "      <td>0.056010</td>\n",
       "      <td>0.425</td>\n",
       "      <td>35.0</td>\n",
       "      <td>60</td>\n",
       "    </tr>\n",
       "    <tr>\n",
       "      <th>413</th>\n",
       "      <td>0.056057</td>\n",
       "      <td>0.175</td>\n",
       "      <td>35.0</td>\n",
       "      <td>60</td>\n",
       "    </tr>\n",
       "    <tr>\n",
       "      <th>...</th>\n",
       "      <td>...</td>\n",
       "      <td>...</td>\n",
       "      <td>...</td>\n",
       "      <td>...</td>\n",
       "    </tr>\n",
       "    <tr>\n",
       "      <th>2201</th>\n",
       "      <td>0.666119</td>\n",
       "      <td>0.850</td>\n",
       "      <td>50.0</td>\n",
       "      <td>60</td>\n",
       "    </tr>\n",
       "    <tr>\n",
       "      <th>2202</th>\n",
       "      <td>0.666119</td>\n",
       "      <td>0.850</td>\n",
       "      <td>25.0</td>\n",
       "      <td>120</td>\n",
       "    </tr>\n",
       "    <tr>\n",
       "      <th>2203</th>\n",
       "      <td>0.666119</td>\n",
       "      <td>0.850</td>\n",
       "      <td>27.5</td>\n",
       "      <td>120</td>\n",
       "    </tr>\n",
       "    <tr>\n",
       "      <th>2205</th>\n",
       "      <td>0.666119</td>\n",
       "      <td>0.850</td>\n",
       "      <td>32.5</td>\n",
       "      <td>120</td>\n",
       "    </tr>\n",
       "    <tr>\n",
       "      <th>2641</th>\n",
       "      <td>0.666119</td>\n",
       "      <td>1.000</td>\n",
       "      <td>50.0</td>\n",
       "      <td>420</td>\n",
       "    </tr>\n",
       "  </tbody>\n",
       "</table>\n",
       "<p>2640 rows × 4 columns</p>\n",
       "</div>"
      ],
      "text/plain": [
       "        mse_diary_vanheespr  quantile  window_lengths  time_merge_blocks\n",
       "exp_id                                                                  \n",
       "1007               0.055966     0.400            35.0                 60\n",
       "941                0.055966     0.375            35.0                 60\n",
       "875                0.055966     0.350            35.0                 60\n",
       "1073               0.056010     0.425            35.0                 60\n",
       "413                0.056057     0.175            35.0                 60\n",
       "...                     ...       ...             ...                ...\n",
       "2201               0.666119     0.850            50.0                 60\n",
       "2202               0.666119     0.850            25.0                120\n",
       "2203               0.666119     0.850            27.5                120\n",
       "2205               0.666119     0.850            32.5                120\n",
       "2641               0.666119     1.000            50.0                420\n",
       "\n",
       "[2640 rows x 4 columns]"
      ]
     },
     "execution_count": 12,
     "metadata": {},
     "output_type": "execute_result"
    }
   ],
   "source": [
    "df_mmash_vanhees = pd.read_csv(\"./results/MMASH/results_MMASH_vanhees.csv.gz\")\n",
    "df_mmash_vanhees = dropnas(df_mmash_vanhees, subset=[\"onset_diary\", \"offset_diary\"])\n",
    "df_mmash_vanhees = transform_datetime(df_mmash_vanhees)\n",
    "print(\"Z-ANGLE\")\n",
    "calculate_table(df_mmash_vanhees, \"diary_vanhees\", labels=True)\n",
    "print('-'*40)\n",
    "print(\"PITCH AND ROLL\")\n",
    "calculate_table(df_mmash_vanhees, \"diary_vanheespr\", labels=True)\n",
    "get_mse(df_mmash_vanhees, [\"mse_diary_vanheespr\"])"
   ]
  },
  {
   "cell_type": "markdown",
   "metadata": {},
   "source": [
    "# Results for BBVS"
   ]
  },
  {
   "cell_type": "code",
   "execution_count": 13,
   "metadata": {
    "ExecuteTime": {
     "end_time": "2020-08-07T11:54:05.872731Z",
     "start_time": "2020-08-07T11:54:03.934634Z"
    }
   },
   "outputs": [
    {
     "data": {
      "text/html": [
       "<div>\n",
       "<style scoped>\n",
       "    .dataframe tbody tr th:only-of-type {\n",
       "        vertical-align: middle;\n",
       "    }\n",
       "\n",
       "    .dataframe tbody tr th {\n",
       "        vertical-align: top;\n",
       "    }\n",
       "\n",
       "    .dataframe thead th {\n",
       "        text-align: right;\n",
       "    }\n",
       "</style>\n",
       "<table border=\"1\" class=\"dataframe\">\n",
       "  <thead>\n",
       "    <tr style=\"text-align: right;\">\n",
       "      <th></th>\n",
       "      <th>mse_diary_hr</th>\n",
       "      <th>quantile</th>\n",
       "      <th>window_lengths</th>\n",
       "      <th>time_merge_blocks</th>\n",
       "    </tr>\n",
       "    <tr>\n",
       "      <th>exp_id</th>\n",
       "      <th></th>\n",
       "      <th></th>\n",
       "      <th></th>\n",
       "      <th></th>\n",
       "    </tr>\n",
       "  </thead>\n",
       "  <tbody>\n",
       "    <tr>\n",
       "      <th>407</th>\n",
       "      <td>0.063355</td>\n",
       "      <td>0.500</td>\n",
       "      <td>50.0</td>\n",
       "      <td>60</td>\n",
       "    </tr>\n",
       "    <tr>\n",
       "      <th>406</th>\n",
       "      <td>0.064370</td>\n",
       "      <td>0.500</td>\n",
       "      <td>47.5</td>\n",
       "      <td>60</td>\n",
       "    </tr>\n",
       "    <tr>\n",
       "      <th>270</th>\n",
       "      <td>0.064798</td>\n",
       "      <td>0.450</td>\n",
       "      <td>37.5</td>\n",
       "      <td>60</td>\n",
       "    </tr>\n",
       "    <tr>\n",
       "      <th>339</th>\n",
       "      <td>0.064864</td>\n",
       "      <td>0.475</td>\n",
       "      <td>45.0</td>\n",
       "      <td>60</td>\n",
       "    </tr>\n",
       "    <tr>\n",
       "      <th>341</th>\n",
       "      <td>0.065020</td>\n",
       "      <td>0.475</td>\n",
       "      <td>50.0</td>\n",
       "      <td>60</td>\n",
       "    </tr>\n",
       "  </tbody>\n",
       "</table>\n",
       "</div>"
      ],
      "text/plain": [
       "        mse_diary_hr  quantile  window_lengths  time_merge_blocks\n",
       "exp_id                                                           \n",
       "407         0.063355     0.500            50.0                 60\n",
       "406         0.064370     0.500            47.5                 60\n",
       "270         0.064798     0.450            37.5                 60\n",
       "339         0.064864     0.475            45.0                 60\n",
       "341         0.065020     0.475            50.0                 60"
      ]
     },
     "execution_count": 13,
     "metadata": {},
     "output_type": "execute_result"
    }
   ],
   "source": [
    "df_bbvs_hr_fullday = pd.read_csv(\"./results/BBVS/results_BBVS_HR_fullday.csv.gz\")\n",
    "df_bbvs_hr_fullday[df_bbvs_hr_fullday[\"onset_diary\"] == df_bbvs_hr_fullday[\"offset_diary\"]]\n",
    "get_mse(df_bbvs_hr_fullday, results=[\"mse_diary_hr\"]).head() \n",
    "\n"
   ]
  },
  {
   "cell_type": "code",
   "execution_count": 14,
   "metadata": {
    "ExecuteTime": {
     "end_time": "2020-08-07T11:54:08.631211Z",
     "start_time": "2020-08-07T11:54:05.873866Z"
    }
   },
   "outputs": [
    {
     "data": {
      "text/html": [
       "<div>\n",
       "<style scoped>\n",
       "    .dataframe tbody tr th:only-of-type {\n",
       "        vertical-align: middle;\n",
       "    }\n",
       "\n",
       "    .dataframe tbody tr th {\n",
       "        vertical-align: top;\n",
       "    }\n",
       "\n",
       "    .dataframe thead th {\n",
       "        text-align: right;\n",
       "    }\n",
       "</style>\n",
       "<table border=\"1\" class=\"dataframe\">\n",
       "  <thead>\n",
       "    <tr style=\"text-align: right;\">\n",
       "      <th></th>\n",
       "      <th>mse_diary_hr</th>\n",
       "      <th>quantile</th>\n",
       "      <th>window_lengths</th>\n",
       "      <th>time_merge_blocks</th>\n",
       "    </tr>\n",
       "    <tr>\n",
       "      <th>exp_id</th>\n",
       "      <th></th>\n",
       "      <th></th>\n",
       "      <th></th>\n",
       "      <th></th>\n",
       "    </tr>\n",
       "  </thead>\n",
       "  <tbody>\n",
       "    <tr>\n",
       "      <th>407</th>\n",
       "      <td>0.063355</td>\n",
       "      <td>0.500</td>\n",
       "      <td>50.0</td>\n",
       "      <td>60</td>\n",
       "    </tr>\n",
       "    <tr>\n",
       "      <th>406</th>\n",
       "      <td>0.064370</td>\n",
       "      <td>0.500</td>\n",
       "      <td>47.5</td>\n",
       "      <td>60</td>\n",
       "    </tr>\n",
       "    <tr>\n",
       "      <th>270</th>\n",
       "      <td>0.064798</td>\n",
       "      <td>0.450</td>\n",
       "      <td>37.5</td>\n",
       "      <td>60</td>\n",
       "    </tr>\n",
       "    <tr>\n",
       "      <th>339</th>\n",
       "      <td>0.064864</td>\n",
       "      <td>0.475</td>\n",
       "      <td>45.0</td>\n",
       "      <td>60</td>\n",
       "    </tr>\n",
       "    <tr>\n",
       "      <th>341</th>\n",
       "      <td>0.065020</td>\n",
       "      <td>0.475</td>\n",
       "      <td>50.0</td>\n",
       "      <td>60</td>\n",
       "    </tr>\n",
       "  </tbody>\n",
       "</table>\n",
       "</div>"
      ],
      "text/plain": [
       "        mse_diary_hr  quantile  window_lengths  time_merge_blocks\n",
       "exp_id                                                           \n",
       "407         0.063355     0.500            50.0                 60\n",
       "406         0.064370     0.500            47.5                 60\n",
       "270         0.064798     0.450            37.5                 60\n",
       "339         0.064864     0.475            45.0                 60\n",
       "341         0.065020     0.475            50.0                 60"
      ]
     },
     "execution_count": 14,
     "metadata": {},
     "output_type": "execute_result"
    }
   ],
   "source": [
    "df_bbvs_hr_night = pd.read_csv(\"./results/BBVS/results_BBVS_HR_night.csv.gz\")\n",
    "df_bbvs_hr_night[df_bbvs_hr_night[\"onset_diary\"] == df_bbvs_hr_night[\"offset_diary\"]]\n",
    "get_mse(df_bbvs_hr_night, results=[\"mse_diary_hr\"]).head() "
   ]
  },
  {
   "cell_type": "code",
   "execution_count": 15,
   "metadata": {
    "ExecuteTime": {
     "end_time": "2020-08-07T11:54:09.231262Z",
     "start_time": "2020-08-07T11:54:08.632430Z"
    }
   },
   "outputs": [
    {
     "data": {
      "text/html": [
       "<div>\n",
       "<style scoped>\n",
       "    .dataframe tbody tr th:only-of-type {\n",
       "        vertical-align: middle;\n",
       "    }\n",
       "\n",
       "    .dataframe tbody tr th {\n",
       "        vertical-align: top;\n",
       "    }\n",
       "\n",
       "    .dataframe thead th {\n",
       "        text-align: right;\n",
       "    }\n",
       "</style>\n",
       "<table border=\"1\" class=\"dataframe\">\n",
       "  <thead>\n",
       "    <tr style=\"text-align: right;\">\n",
       "      <th></th>\n",
       "      <th>mse_diary_vanhees</th>\n",
       "      <th>quantile</th>\n",
       "      <th>window_lengths</th>\n",
       "      <th>time_merge_blocks</th>\n",
       "    </tr>\n",
       "    <tr>\n",
       "      <th>exp_id</th>\n",
       "      <th></th>\n",
       "      <th></th>\n",
       "      <th></th>\n",
       "      <th></th>\n",
       "    </tr>\n",
       "  </thead>\n",
       "  <tbody>\n",
       "    <tr>\n",
       "      <th>155</th>\n",
       "      <td>0.068694</td>\n",
       "      <td>0.15</td>\n",
       "      <td>25.0</td>\n",
       "      <td>180</td>\n",
       "    </tr>\n",
       "    <tr>\n",
       "      <th>144</th>\n",
       "      <td>0.069279</td>\n",
       "      <td>0.15</td>\n",
       "      <td>25.0</td>\n",
       "      <td>120</td>\n",
       "    </tr>\n",
       "    <tr>\n",
       "      <th>156</th>\n",
       "      <td>0.069749</td>\n",
       "      <td>0.15</td>\n",
       "      <td>27.5</td>\n",
       "      <td>180</td>\n",
       "    </tr>\n",
       "    <tr>\n",
       "      <th>145</th>\n",
       "      <td>0.072577</td>\n",
       "      <td>0.15</td>\n",
       "      <td>27.5</td>\n",
       "      <td>120</td>\n",
       "    </tr>\n",
       "    <tr>\n",
       "      <th>157</th>\n",
       "      <td>0.072751</td>\n",
       "      <td>0.15</td>\n",
       "      <td>30.0</td>\n",
       "      <td>180</td>\n",
       "    </tr>\n",
       "  </tbody>\n",
       "</table>\n",
       "</div>"
      ],
      "text/plain": [
       "        mse_diary_vanhees  quantile  window_lengths  time_merge_blocks\n",
       "exp_id                                                                \n",
       "155              0.068694      0.15            25.0                180\n",
       "144              0.069279      0.15            25.0                120\n",
       "156              0.069749      0.15            27.5                180\n",
       "145              0.072577      0.15            27.5                120\n",
       "157              0.072751      0.15            30.0                180"
      ]
     },
     "execution_count": 15,
     "metadata": {},
     "output_type": "execute_result"
    }
   ],
   "source": [
    "df_bbvs_vanhees_dw = pd.read_csv(\"./results/BBVS/results_BBVS_vanhees_dw.csv.gz\")\n",
    "\n",
    "# TODO: detected problem for PID BVS069B\n",
    "df_bbvs_vanhees_dw[df_bbvs_vanhees_dw[\"onset_diary\"] == df_bbvs_vanhees_dw[\"offset_diary\"]]\n",
    "\n",
    "get_mse(df_bbvs_vanhees_dw, results=[\"mse_diary_vanhees\"]).head() # 0.15\t25.0\t180 (0.068694)"
   ]
  },
  {
   "cell_type": "code",
   "execution_count": 16,
   "metadata": {
    "ExecuteTime": {
     "end_time": "2020-08-07T11:54:09.865931Z",
     "start_time": "2020-08-07T11:54:09.232454Z"
    }
   },
   "outputs": [
    {
     "data": {
      "text/html": [
       "<div>\n",
       "<style scoped>\n",
       "    .dataframe tbody tr th:only-of-type {\n",
       "        vertical-align: middle;\n",
       "    }\n",
       "\n",
       "    .dataframe tbody tr th {\n",
       "        vertical-align: top;\n",
       "    }\n",
       "\n",
       "    .dataframe thead th {\n",
       "        text-align: right;\n",
       "    }\n",
       "</style>\n",
       "<table border=\"1\" class=\"dataframe\">\n",
       "  <thead>\n",
       "    <tr style=\"text-align: right;\">\n",
       "      <th></th>\n",
       "      <th>mse_diary_vanhees</th>\n",
       "      <th>quantile</th>\n",
       "      <th>window_lengths</th>\n",
       "      <th>time_merge_blocks</th>\n",
       "    </tr>\n",
       "    <tr>\n",
       "      <th>exp_id</th>\n",
       "      <th></th>\n",
       "      <th></th>\n",
       "      <th></th>\n",
       "      <th></th>\n",
       "    </tr>\n",
       "  </thead>\n",
       "  <tbody>\n",
       "    <tr>\n",
       "      <th>155</th>\n",
       "      <td>0.068694</td>\n",
       "      <td>0.15</td>\n",
       "      <td>25.0</td>\n",
       "      <td>180</td>\n",
       "    </tr>\n",
       "    <tr>\n",
       "      <th>144</th>\n",
       "      <td>0.069279</td>\n",
       "      <td>0.15</td>\n",
       "      <td>25.0</td>\n",
       "      <td>120</td>\n",
       "    </tr>\n",
       "    <tr>\n",
       "      <th>156</th>\n",
       "      <td>0.069749</td>\n",
       "      <td>0.15</td>\n",
       "      <td>27.5</td>\n",
       "      <td>180</td>\n",
       "    </tr>\n",
       "    <tr>\n",
       "      <th>145</th>\n",
       "      <td>0.072577</td>\n",
       "      <td>0.15</td>\n",
       "      <td>27.5</td>\n",
       "      <td>120</td>\n",
       "    </tr>\n",
       "    <tr>\n",
       "      <th>157</th>\n",
       "      <td>0.072751</td>\n",
       "      <td>0.15</td>\n",
       "      <td>30.0</td>\n",
       "      <td>180</td>\n",
       "    </tr>\n",
       "  </tbody>\n",
       "</table>\n",
       "</div>"
      ],
      "text/plain": [
       "        mse_diary_vanhees  quantile  window_lengths  time_merge_blocks\n",
       "exp_id                                                                \n",
       "155              0.068694      0.15            25.0                180\n",
       "144              0.069279      0.15            25.0                120\n",
       "156              0.069749      0.15            27.5                180\n",
       "145              0.072577      0.15            27.5                120\n",
       "157              0.072751      0.15            30.0                180"
      ]
     },
     "execution_count": 16,
     "metadata": {},
     "output_type": "execute_result"
    }
   ],
   "source": [
    "df_bbvs_vanhees_ndw = pd.read_csv(\"./results/BBVS/results_BBVS_vanhees_ndw.csv.gz\")\n",
    "get_mse(df_bbvs_vanhees_dw, results=[\"mse_diary_vanhees\"]).head() # 0.15\t25.0\t180 (0.074094)"
   ]
  },
  {
   "cell_type": "code",
   "execution_count": 18,
   "metadata": {
    "ExecuteTime": {
     "end_time": "2020-08-07T08:36:24.921650Z",
     "start_time": "2020-08-07T08:36:24.310095Z"
    }
   },
   "outputs": [
    {
     "data": {
      "text/html": [
       "<div>\n",
       "<style scoped>\n",
       "    .dataframe tbody tr th:only-of-type {\n",
       "        vertical-align: middle;\n",
       "    }\n",
       "\n",
       "    .dataframe tbody tr th {\n",
       "        vertical-align: top;\n",
       "    }\n",
       "\n",
       "    .dataframe thead th {\n",
       "        text-align: right;\n",
       "    }\n",
       "</style>\n",
       "<table border=\"1\" class=\"dataframe\">\n",
       "  <thead>\n",
       "    <tr style=\"text-align: right;\">\n",
       "      <th></th>\n",
       "      <th>mse_diary_vanhees</th>\n",
       "      <th>quantile</th>\n",
       "      <th>window_lengths</th>\n",
       "      <th>time_merge_blocks</th>\n",
       "    </tr>\n",
       "    <tr>\n",
       "      <th>exp_id</th>\n",
       "      <th></th>\n",
       "      <th></th>\n",
       "      <th></th>\n",
       "      <th></th>\n",
       "    </tr>\n",
       "  </thead>\n",
       "  <tbody>\n",
       "    <tr>\n",
       "      <th>100</th>\n",
       "      <td>0.132125</td>\n",
       "      <td>0.10</td>\n",
       "      <td>25.0</td>\n",
       "      <td>180</td>\n",
       "    </tr>\n",
       "    <tr>\n",
       "      <th>101</th>\n",
       "      <td>0.136878</td>\n",
       "      <td>0.10</td>\n",
       "      <td>27.5</td>\n",
       "      <td>180</td>\n",
       "    </tr>\n",
       "    <tr>\n",
       "      <th>89</th>\n",
       "      <td>0.139231</td>\n",
       "      <td>0.10</td>\n",
       "      <td>25.0</td>\n",
       "      <td>120</td>\n",
       "    </tr>\n",
       "    <tr>\n",
       "      <th>133</th>\n",
       "      <td>0.139611</td>\n",
       "      <td>0.15</td>\n",
       "      <td>25.0</td>\n",
       "      <td>90</td>\n",
       "    </tr>\n",
       "    <tr>\n",
       "      <th>145</th>\n",
       "      <td>0.141491</td>\n",
       "      <td>0.15</td>\n",
       "      <td>27.5</td>\n",
       "      <td>120</td>\n",
       "    </tr>\n",
       "  </tbody>\n",
       "</table>\n",
       "</div>"
      ],
      "text/plain": [
       "        mse_diary_vanhees  quantile  window_lengths  time_merge_blocks\n",
       "exp_id                                                                \n",
       "100              0.132125      0.10            25.0                180\n",
       "101              0.136878      0.10            27.5                180\n",
       "89               0.139231      0.10            25.0                120\n",
       "133              0.139611      0.15            25.0                 90\n",
       "145              0.141491      0.15            27.5                120"
      ]
     },
     "execution_count": 18,
     "metadata": {},
     "output_type": "execute_result"
    }
   ],
   "source": [
    "df_bbvs_vanhees_thigh = pd.read_csv(\"./results/BBVS/results_BBVS_vanhees_thigh.csv.gz\")\n",
    "get_mse(df_bbvs_vanhees_thigh, results=[\"mse_diary_vanhees\"]).head() # 0.10\t25.0\t180 (0.132125)"
   ]
  },
  {
   "cell_type": "code",
   "execution_count": 37,
   "metadata": {
    "ExecuteTime": {
     "end_time": "2020-08-07T09:51:16.756534Z",
     "start_time": "2020-08-07T09:51:16.740712Z"
    }
   },
   "outputs": [
    {
     "data": {
      "text/html": [
       "<div>\n",
       "<style scoped>\n",
       "    .dataframe tbody tr th:only-of-type {\n",
       "        vertical-align: middle;\n",
       "    }\n",
       "\n",
       "    .dataframe tbody tr th {\n",
       "        vertical-align: top;\n",
       "    }\n",
       "\n",
       "    .dataframe thead th {\n",
       "        text-align: right;\n",
       "    }\n",
       "</style>\n",
       "<table border=\"1\" class=\"dataframe\">\n",
       "  <thead>\n",
       "    <tr style=\"text-align: right;\">\n",
       "      <th></th>\n",
       "      <th>mse_diary_hrnight</th>\n",
       "      <th>mse_diary_hrfullday</th>\n",
       "      <th>quantile</th>\n",
       "      <th>window_lengths</th>\n",
       "      <th>time_merge_blocks</th>\n",
       "    </tr>\n",
       "    <tr>\n",
       "      <th>exp_id</th>\n",
       "      <th></th>\n",
       "      <th></th>\n",
       "      <th></th>\n",
       "      <th></th>\n",
       "      <th></th>\n",
       "    </tr>\n",
       "  </thead>\n",
       "  <tbody>\n",
       "    <tr>\n",
       "      <th>1</th>\n",
       "      <td>0.155023</td>\n",
       "      <td>0.050964</td>\n",
       "      <td>0.5</td>\n",
       "      <td>50</td>\n",
       "      <td>60</td>\n",
       "    </tr>\n",
       "  </tbody>\n",
       "</table>\n",
       "</div>"
      ],
      "text/plain": [
       "        mse_diary_hrnight  mse_diary_hrfullday  quantile  window_lengths  \\\n",
       "exp_id                                                                     \n",
       "1                0.155023             0.050964       0.5              50   \n",
       "\n",
       "        time_merge_blocks  \n",
       "exp_id                     \n",
       "1                      60  "
      ]
     },
     "execution_count": 37,
     "metadata": {},
     "output_type": "execute_result"
    }
   ],
   "source": [
    "df_bbvs_everything = pd.read_csv(\"./results_BBVS_everything.csv.gz\")\n",
    "df_bbvs_everything[df_bbvs_everything[\"onset_diary\"] == df_bbvs_everything[\"offset_diary\"]]\n",
    "get_mse(df_bbvs_everything, results=[\"mse_diary_hrnight\", \"mse_diary_hrfullday\"]).head() \n",
    "\n"
   ]
  },
  {
   "cell_type": "markdown",
   "metadata": {},
   "source": [
    "# Please ignore the rest of this file"
   ]
  },
  {
   "cell_type": "code",
   "execution_count": 87,
   "metadata": {
    "ExecuteTime": {
     "end_time": "2020-08-06T14:55:48.732949Z",
     "start_time": "2020-08-06T14:55:48.582275Z"
    }
   },
   "outputs": [
    {
     "data": {
      "image/png": "[encoded data removed]",
      "text/plain": [
       "<Figure size 432x288 with 2 Axes>"
      ]
     },
     "metadata": {
      "needs_background": "light"
     },
     "output_type": "display_data"
    }
   ],
   "source": [
    "from matplotlib import cm\n",
    "fig = plt.figure()\n",
    "ax = fig.gca(projection='3d')\n",
    "\n",
    "#X = df.groupby(\"exp_id\")[[\"time_merge_blocks\"]].mean() \n",
    "X = df.groupby(\"exp_id\")[[\"window_lengths\"]].mean() # \n",
    "Y = df.groupby(\"exp_id\")[[\"quantile\"]].mean()\n",
    "Z = df.groupby(\"exp_id\")[[\"mse_psg_hr\"]].mean()\n",
    "res = pd.concat([X,Y,Z], axis=1).groupby([\"window_lengths\", \"quantile\"]).mean().reset_index()\n",
    "X = res[[\"window_lengths\"]].values\n",
    "Y = res[[\"quantile\"]].values\n",
    "Z = res[[\"mse_psg_hr\"]].values\n",
    "\n",
    "#X, Y = np.meshgrid(X, Y)\n",
    "\n",
    "\n",
    "ax.set_zlim(-1.01, 1.01)\n",
    "surf = ax.plot_surface(X, Y, Z, cmap=cm.coolwarm,\n",
    "                       linewidth=1, antialiased=False)\n",
    "\n",
    "fig.colorbar(surf, shrink=0.5, aspect=5)\n",
    "\n",
    "plt.show()"
   ]
  },
  {
   "cell_type": "code",
   "execution_count": null,
   "metadata": {
    "ExecuteTime": {
     "end_time": "2020-08-04T12:22:39.094297Z",
     "start_time": "2020-08-04T12:22:39.070010Z"
    }
   },
   "outputs": [],
   "source": [
    "mse_results = get_mse(df, results=[\"mse_diary_hr\"])\n",
    "myfilter(mse_results, 0.45, 40.0, 60)"
   ]
  },
  {
   "cell_type": "code",
   "execution_count": null,
   "metadata": {
    "ExecuteTime": {
     "end_time": "2020-08-04T09:11:22.473834Z",
     "start_time": "2020-08-04T09:11:22.407217Z"
    }
   },
   "outputs": [],
   "source": [
    "get_mse(df_full, results=[\"mse_psg_hr\"]).head()"
   ]
  },
  {
   "cell_type": "code",
   "execution_count": null,
   "metadata": {
    "ExecuteTime": {
     "end_time": "2020-08-04T09:30:17.885742Z",
     "start_time": "2020-08-04T09:30:17.464540Z"
    }
   },
   "outputs": [],
   "source": [
    "time_deviation(df_full, \"onset_hr\", \"onset_psg\")\n",
    "time_deviation(df_full, \"offset_hr\", \"offset_psg\")"
   ]
  },
  {
   "cell_type": "code",
   "execution_count": null,
   "metadata": {
    "ExecuteTime": {
     "end_time": "2020-08-02T16:12:52.765285Z",
     "start_time": "2020-08-02T16:12:52.541890Z"
    }
   },
   "outputs": [],
   "source": [
    "from matplotlib import cm\n",
    "fig = plt.figure()\n",
    "ax = fig.gca(projection='3d')\n",
    "\n",
    "#X = df.groupby(\"exp_id\")[[\"time_merge_blocks\"]].mean() \n",
    "X = df.groupby(\"exp_id\")[[\"window_lengths\"]].mean() # \n",
    "Y = df.groupby(\"exp_id\")[[\"quantile\"]].mean()\n",
    "Z = df.groupby(\"exp_id\")[[\"mse_psg_hr\"]].mean()\n",
    "res = pd.concat([X,Y,Z], axis=1).groupby([\"window_lengths\", \"quantile\"]).mean().reset_index()\n",
    "X = res[[\"window_lengths\"]].values\n",
    "Y = res[[\"quantile\"]].values\n",
    "Z = res[[\"mse_psg_hr\"]].values\n",
    "\n",
    "#X, Y = np.meshgrid(X, Y)\n",
    "\n",
    "\n",
    "ax.set_zlim(-1.01, 1.01)\n",
    "surf = ax.plot_surface(X, Y, Z, cmap=cm.coolwarm,\n",
    "                       linewidth=1, antialiased=False)\n",
    "\n",
    "fig.colorbar(surf, shrink=0.5, aspect=5)\n",
    "\n",
    "plt.show()"
   ]
  },
  {
   "cell_type": "code",
   "execution_count": null,
   "metadata": {
    "ExecuteTime": {
     "end_time": "2020-07-28T14:09:11.225373Z",
     "start_time": "2020-07-28T14:09:11.213205Z"
    }
   },
   "outputs": [],
   "source": [
    "cohens_exp_ids = cohen_results.sort_values(by=\"cohens\", ascending=False).head(50)\n",
    "cohens_exp_ids"
   ]
  },
  {
   "cell_type": "code",
   "execution_count": null,
   "metadata": {
    "ExecuteTime": {
     "end_time": "2020-07-28T14:07:40.423949Z",
     "start_time": "2020-07-28T14:07:40.415625Z"
    }
   },
   "outputs": [],
   "source": [
    "df_exp = df[df[\"exp_id\"] == 394] # .sort_values(by=\"mse\", ascending=False).head(50)"
   ]
  },
  {
   "cell_type": "code",
   "execution_count": null,
   "metadata": {},
   "outputs": [],
   "source": [
    "# def load_mesa_old():\n",
    "#     df1 = pd.read_csv(\"./results/results_MESA_hr_1.csv.gz\").reset_index()\n",
    "#     df2 = pd.read_csv(\"./results/results_MESA_hr_2.csv.gz\").reset_index()\n",
    "#     df2[\"exp_id\"] += (df1[\"exp_id\"].max() + 1)\n",
    "#     df3 = pd.read_csv(\"./results/results_MESA_hr_3.csv.gz\").reset_index()\n",
    "#     df3[\"exp_id\"] += (df2[\"exp_id\"].max() + 1)\n",
    "#     df4 = pd.read_csv(\"./results/results_MESA_hr_4.csv.gz\").reset_index()\n",
    "#     df4[\"exp_id\"] += (df3[\"exp_id\"].max() + 1)\n",
    "#     df5 = pd.read_csv(\"./results/results_MESA_hr_5.csv.gz\").reset_index()\n",
    "#     df5[\"exp_id\"] += (df4[\"exp_id\"].max() + 1)\n",
    "    \n",
    "#     return pd.concat([df1,df2,df3,df4,df5], axis=0)\n",
    "\n",
    "#df = pd.read_csv(\"./results/HRalgo_new.csv\")\n",
    "#df = pd.read_csv(\"./results/results_BBVS_vanhees.csv.gz\")\n",
    "#df = pd.read_csv(\"./results/results_BBVS_hr.csv.gz\")\n",
    "#df = pd.read_csv(\"./results/results_BBVS_HR_fullday.csv.gz\")\n",
    "#df = load_mesa()\n",
    "#df2 = pd.read_csv(\"./results/results_MESA_hr_1.csv.gz\").reset_index()\n",
    "#df = pd.read_csv(\"./results/results_apple_hr.csv.gz\")\n",
    "#df2 = pd.read_csv(\"./results/results_MESA_hr_new.csv.gz\")\n",
    "#df3 = pd.read_csv(\"./results_MESA_hr.csv.gz\")\n",
    "\n",
    "#df = myfilter(df2, 0.525, 27.5, 60)\n",
    "#df[df[\"pid\"] == 4723]"
   ]
  },
  {
   "cell_type": "code",
   "execution_count": 5,
   "metadata": {
    "ExecuteTime": {
     "end_time": "2020-08-06T13:22:43.195335Z",
     "start_time": "2020-08-06T13:22:43.193546Z"
    }
   },
   "outputs": [],
   "source": [
    "# # Table 2 - HR part\n",
    "# def calculate_table2_mesa_hr(df_mesa):\n",
    "#     best_exp = get_mse(df_mesa, results=[\"mse_psg_hr\"]).head(1)\n",
    "#     Q, W, T = get_hparams(best_exp)\n",
    "\n",
    "#     best = myfilter(df_mesa30, Q, W, T).copy()\n",
    "\n",
    "#     best[\"tst_hr\"] = best[\"offset_hr\"] - best[\"onset_hr\"]\n",
    "#     best[\"tst_psg\"] = best[\"offset_psg\"] - best[\"onset_psg\"]\n",
    "\n",
    "#     print(\"TST: %.2f \\pm %.2f\" % time_deviation(best, \"tst_hr\", \"tst_psg\"))\n",
    "#     print(\"MSE: %.2f \\pm %.2f\" % ci95(best[\"mse_psg_hr\"].values))\n",
    "#     print(\"Cohens: %.2f \\pm %.2f\" % ci95(best[\"cohens_psg_hr\"].values))\n",
    "\n",
    "#     print(\"ONSET: %.2f \\pm %.2f\" % time_deviation(best, \"onset_hr\", \"onset_psg\"))\n",
    "#     print(\"OFFSET: %.2f \\pm %.2f\" % time_deviation(best, \"offset_hr\", \"offset_psg\"))\n",
    "\n",
    "# print(\"-- Full dataset:\")\n",
    "# calculate_table2_mesa_hr(df_mesa30)\n",
    "# print(40*'-')\n",
    "# print(\"-- Diseased participants:\")\n",
    "# calculate_table2_mesa_hr(df_mesa30_diseased)\n",
    "# print(40*'-')\n",
    "# print(\"-- Healthy participants:\")\n",
    "# calculate_table2_mesa_hr(df_mesa30_healthy)\n",
    "# print(40*'-')\n"
   ]
  },
  {
   "cell_type": "code",
   "execution_count": null,
   "metadata": {
    "ExecuteTime": {
     "end_time": "2020-08-05T17:51:45.869423Z",
     "start_time": "2020-08-05T17:46:54.631026Z"
    }
   },
   "outputs": [],
   "source": [
    "# Table 2 - Diary part\n",
    "df_mesa30_diary = pd.merge(df_mesa30,\n",
    "                           mesa[[\"mesaid\", \"bedtmwkday5c\", \"bedtmwkend5c\", \"waketmwkday5c\", \"waketmwkend5c\"]],\n",
    "                           left_on=\"pid\", right_on=\"mesaid\")\n",
    "\n",
    "def create_fake_sleep_on_off_set(timein, weekday, weekend):\n",
    "    \n",
    "    is_it_weekday = timein.weekday() in [4, 5]\n",
    "    day = timein.day\n",
    "    if is_it_weekday:\n",
    "        day0 = \"2017-01-%02d %s\" % (day - 1 if day-1 > 0 else day, weekend)\n",
    "        day1 = \"2017-01-%02d %s\" % (day, weekend)\n",
    "        day2 = \"2017-01-%02d %s\" % (day+1, weekend)\n",
    "    else:\n",
    "        day0 = \"2017-01-%02d %s\" % (day - 1 if day-1 > 0 else day, weekday)\n",
    "        day1 = \"2017-01-%02d %s\" % (day, weekday)\n",
    "        day2 = \"2017-01-%02d %s\" % (day+1, weekday)\n",
    "    \n",
    "    day0 = datetime.strptime(day0, '%Y-%m-%d %H:%M:%S')\n",
    "    day1 = datetime.strptime(day1, '%Y-%m-%d %H:%M:%S')\n",
    "    day2 = datetime.strptime(day2, '%Y-%m-%d %H:%M:%S')\n",
    "    \n",
    "    possibilities = [day0, day1, day2]\n",
    "    results = [abs(timein - day0), abs(timein - day1), abs(timein - day2)]\n",
    "\n",
    "    return possibilities[np.argmin(results)]\n",
    "\n",
    "    \n",
    "df_mesa30_diary[\"onset_diary\"] = df_mesa30_diary[[\"onset_psg\", \"bedtmwkday5c\", \"bedtmwkend5c\"]].apply(lambda x:\n",
    "        create_fake_sleep_on_off_set(x[\"onset_psg\"], x[\"bedtmwkday5c\"], x[\"bedtmwkend5c\"]), axis=1)\n",
    "\n",
    "df_mesa30_diary[\"offset_diary\"] = df_mesa30_diary[[\"offset_psg\", \"waketmwkday5c\", \"waketmwkend5c\"]].apply(lambda x:\n",
    "        create_fake_sleep_on_off_set(x[\"offset_psg\"], x[\"waketmwkday5c\"], x[\"waketmwkend5c\"]), axis=1)\n",
    "\n"
   ]
  }
 ],
 "metadata": {
  "kernelspec": {
   "display_name": "Python 3",
   "language": "python",
   "name": "python3"
  },
  "language_info": {
   "codemirror_mode": {
    "name": "ipython",
    "version": 3
   },
   "file_extension": ".py",
   "mimetype": "text/x-python",
   "name": "python",
   "nbconvert_exporter": "python",
   "pygments_lexer": "ipython3",
   "version": "3.8.5"
  }
 },
 "nbformat": 4,
 "nbformat_minor": 4
}
