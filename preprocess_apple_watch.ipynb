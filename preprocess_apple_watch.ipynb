{
 "cells": [
  {
   "cell_type": "code",
   "execution_count": 2,
   "metadata": {
    "ExecuteTime": {
     "end_time": "2020-08-04T15:37:45.775364Z",
     "start_time": "2020-08-04T15:37:45.361668Z"
    }
   },
   "outputs": [],
   "source": [
    "import os\n",
    "import pandas as pd\n",
    "import numpy as np\n",
    "from glob import glob\n",
    "from datetime import timedelta\n",
    "from scipy.signal import butter, filtfilt\n",
    "import datetime\n"
   ]
  },
  {
   "cell_type": "code",
   "execution_count": 13,
   "metadata": {
    "ExecuteTime": {
     "end_time": "2020-08-04T15:38:53.230569Z",
     "start_time": "2020-08-04T15:38:53.214435Z"
    }
   },
   "outputs": [
    {
     "data": {
      "text/plain": [
       "31"
      ]
     },
     "execution_count": 13,
     "metadata": {},
     "output_type": "execute_result"
    }
   ],
   "source": [
    "cropped_data_path = \"/home/palotti/github/sleep_classifiers/outputs/\"\n",
    "\n",
    "allfiles = glob( cropped_data_path + \"cropped/*_cleaned_hr.out\")\n",
    "\n",
    "pids = list(set(os.path.basename(f).split(\"_\")[0] for f in allfiles))\n",
    "len(pids)"
   ]
  },
  {
   "cell_type": "code",
   "execution_count": 14,
   "metadata": {
    "ExecuteTime": {
     "end_time": "2020-08-04T15:38:53.710691Z",
     "start_time": "2020-08-04T15:38:53.703864Z"
    }
   },
   "outputs": [],
   "source": [
    "def get_hr_file(pid):\n",
    "    file = cropped_data_path + \"cropped/%s_cleaned_hr.out\" % (pid)\n",
    "    df = pd.read_csv(file, names=[\"time\", \"hr\"], sep=\" \")\n",
    "    df[\"timedelta\"] = df[\"time\"].apply(lambda x : timedelta(seconds=x))\n",
    "    return df\n",
    "\n",
    "def get_activity_file(pid):\n",
    "    file = cropped_data_path + \"cropped/%s_cleaned_motion.out\" % (pid)\n",
    "    df = pd.read_csv(file, names=[\"time\", \"x\", \"y\", \"z\"], sep=\" \")\n",
    "    df[\"timedelta\"] = df[\"time\"].apply(lambda x : timedelta(seconds=x))\n",
    "    return df  \n",
    "\n",
    "def get_psg_file(pid):\n",
    "    file = cropped_data_path + \"cropped/%s_cleaned_psg.out\" % (pid)\n",
    "    df = pd.read_csv(file, names=[\"time\", \"label\"], sep=\" \")\n",
    "    df[\"timedelta\"] = df[\"time\"].apply(lambda x : timedelta(seconds=x))\n",
    "    return df.set_index(\"timedelta\").resample(\"15s\").mean().interpolate().reset_index()\n",
    "    "
   ]
  },
  {
   "cell_type": "code",
   "execution_count": 15,
   "metadata": {
    "ExecuteTime": {
     "end_time": "2020-08-04T15:38:54.277180Z",
     "start_time": "2020-08-04T15:38:54.263845Z"
    }
   },
   "outputs": [],
   "source": [
    "def get_consecutive_series(df_in, col):\n",
    "    df = df_in.copy()\n",
    "\n",
    "    df[\"_lenght\"] = 0\n",
    "    df[\"_seq_id\"] = df.groupby((df[col] != df[col].shift(1).fillna(False)).cumsum()).ngroup()\n",
    "    df[\"_lenght\"] = df[[\"_lenght\", \"_seq_id\"]].groupby(\"_seq_id\").transform(\"count\")\n",
    "\n",
    "    return df[\"_lenght\"], df[\"_seq_id\"]"
   ]
  },
  {
   "cell_type": "code",
   "execution_count": 16,
   "metadata": {
    "ExecuteTime": {
     "end_time": "2020-08-04T15:38:54.841150Z",
     "start_time": "2020-08-04T15:38:54.823613Z"
    }
   },
   "outputs": [],
   "source": [
    "def max2epochs(data, fs, epoch):\n",
    "    data = data.flatten()\n",
    "\n",
    "    seconds = int(np.floor(np.shape(data)[0] / fs))\n",
    "    data = np.abs(data)\n",
    "    data = data[0:int(seconds * fs)]\n",
    "\n",
    "    data = data.reshape(fs, seconds, order='F').copy()\n",
    "\n",
    "    data = data.max(0)\n",
    "    data = data.flatten()\n",
    "    N = np.shape(data)[0]\n",
    "    num_epochs = int(np.floor(N / epoch))\n",
    "    data = data[0:(num_epochs * epoch)]\n",
    "\n",
    "    data = data.reshape(epoch, num_epochs, order='F').copy()\n",
    "    epoch_data = np.sum(data, axis=0)\n",
    "    epoch_data = epoch_data.flatten()\n",
    "\n",
    "    return epoch_data"
   ]
  },
  {
   "cell_type": "code",
   "execution_count": 17,
   "metadata": {
    "ExecuteTime": {
     "end_time": "2020-08-04T15:38:55.311528Z",
     "start_time": "2020-08-04T15:38:55.305919Z"
    }
   },
   "outputs": [],
   "source": [
    "def build_activity_counts_without_matlab(data):\n",
    "\n",
    "    fs = 50\n",
    "    time = np.arange(np.amin(data[:, 0]), np.amax(data[:, 0]), 1.0 / fs)\n",
    "    z_data = np.interp(time, data[:, 0], data[:, 3])\n",
    "\n",
    "    cf_low = 3\n",
    "    cf_hi = 11\n",
    "    order = 5\n",
    "    w1 = cf_low / (fs / 2)\n",
    "    w2 = cf_hi / (fs / 2)\n",
    "    pass_band = [w1, w2]\n",
    "    b, a = butter(order, pass_band, 'bandpass')\n",
    "\n",
    "    z_filt = filtfilt(b, a, z_data)\n",
    "    z_filt = np.abs(z_filt)\n",
    "    top_edge = 5\n",
    "    bottom_edge = 0\n",
    "    number_of_bins = 128\n",
    "\n",
    "    bin_edges = np.linspace(bottom_edge, top_edge, number_of_bins + 1)\n",
    "    binned = np.digitize(z_filt, bin_edges)\n",
    "    epoch = 15\n",
    "    counts = max2epochs(binned, fs, epoch)\n",
    "    counts = (counts - 18) * 3.07\n",
    "    counts[counts < 0] = 0\n",
    "\n",
    "    time_counts = np.linspace(np.min(data[:, 0]), max(data[:, 0]), np.shape(counts)[0])\n",
    "    time_counts = np.expand_dims(time_counts, axis=1)\n",
    "    counts = np.expand_dims(counts, axis=1)\n",
    "    output = np.hstack((time_counts, counts))\n",
    "\n",
    "    #activity_count_output_path = ActivityCountService.get_cropped_file_path(subject_id)\n",
    "    #np.savetxt(activity_count_output_path, output, fmt='%f', delimiter=',')\n",
    "    return output"
   ]
  },
  {
   "cell_type": "code",
   "execution_count": 18,
   "metadata": {
    "ExecuteTime": {
     "end_time": "2020-08-04T15:38:55.739286Z",
     "start_time": "2020-08-04T15:38:55.731113Z"
    }
   },
   "outputs": [],
   "source": [
    "def get_counts(df_act):\n",
    "    data = df_act[[\"time\", \"x\",\"y\",\"z\"]].values\n",
    "    # extracts the activity counts\n",
    "    counts = pd.DataFrame(build_activity_counts_without_matlab(data), columns=[\"time\", \"counts\"])\n",
    "    counts[\"timedelta\"] = counts[\"time\"].apply(lambda x : timedelta(seconds=x))\n",
    "    return counts"
   ]
  },
  {
   "cell_type": "code",
   "execution_count": 19,
   "metadata": {
    "ExecuteTime": {
     "end_time": "2020-08-04T15:38:56.234496Z",
     "start_time": "2020-08-04T15:38:56.222570Z"
    }
   },
   "outputs": [],
   "source": [
    "def merge_dfs(df_counts, df_act, df_hr, df_psg):\n",
    "\n",
    "    tol = pd.Timedelta('15s')\n",
    "    \n",
    "    merged = pd.merge_asof(left=df_act,\n",
    "                  right=df_counts,\n",
    "                  right_on=\"timedelta\",\n",
    "                  left_on=\"timedelta\",\n",
    "                  direction='nearest',\n",
    "                  suffixes=(\"_act\", \"_count\"),\n",
    "                  tolerance=tol)\n",
    "    \n",
    "    merged = pd.merge_asof(left=merged,\n",
    "                           right=df_hr,\n",
    "                           right_on=\"timedelta\",\n",
    "                           left_on=\"timedelta\",\n",
    "                           direction='nearest',\n",
    "                           suffixes=(\"\", \"_hr\"),\n",
    "                           tolerance=tol)\n",
    "    merged[\"time_hr\"] = merged[\"time\"]\n",
    "    merged.drop([\"time\"], axis=1, inplace=True)\n",
    "    \n",
    "    merged = pd.merge_asof(left=merged,\n",
    "                           right=df_psg,\n",
    "                           right_on=\"timedelta\",\n",
    "                           left_on=\"timedelta\",\n",
    "                           direction='nearest',\n",
    "                           suffixes=(\"\", \"_psg\"),\n",
    "                           tolerance=tol)\n",
    "    merged[\"time_psg\"] = merged[\"time\"]\n",
    "    merged.drop([\"time\"], axis=1, inplace=True)\n",
    "    merged[\"label\"] = merged[\"label\"].fillna(0)\n",
    "    merged[\"time_psg\"] = merged[\"time_psg\"].fillna(-1)\n",
    "    \n",
    "    #return merged\n",
    "    result = merged.dropna().set_index(\"timedelta\").resample(\"15s\").mean()\n",
    "    i = result[result.isnull().any(axis=1)].index\n",
    "    return result.interpolate(\"linear\").drop_duplicates()\n",
    "    "
   ]
  },
  {
   "cell_type": "code",
   "execution_count": 20,
   "metadata": {
    "ExecuteTime": {
     "end_time": "2020-08-04T15:38:56.931598Z",
     "start_time": "2020-08-04T15:38:56.918725Z"
    }
   },
   "outputs": [],
   "source": [
    "def get_df_around_t0(df_in, delta_min=30):\n",
    "    \n",
    "    df = df_in.copy()\n",
    "    \n",
    "    # Flag df by timedelta\n",
    "    df[\"flag\"] = (df[\"timedelta\"] - df[\"timedelta\"].shift(1)) < timedelta(minutes=delta_min)\n",
    "    # Group flags\n",
    "    df[\"grp_len\"], df[\"grp_id\"] = get_consecutive_series(df, \"flag\")\n",
    "    # Get gid of t=0\n",
    "    df_t0 = df[(df[\"timedelta\"] < timedelta(minutes=30))\n",
    "               & (df[\"timedelta\"] > timedelta(minutes=0))\n",
    "              ]\n",
    "    gid = df_t0[\"grp_id\"].unique()\n",
    "    assert(len(gid) == 1)\n",
    "    #print(len(gid))\n",
    "    \n",
    "    #return df_t0\n",
    "    \n",
    "    df_out = df[df[\"grp_id\"] == gid[0]]\n",
    "    \n",
    "    # Clean up\n",
    "    del df_out[\"grp_len\"]\n",
    "    del df_out[\"grp_id\"]\n",
    "    del df_out[\"flag\"]\n",
    "    \n",
    "    return df_out\n",
    "    "
   ]
  },
  {
   "cell_type": "code",
   "execution_count": 21,
   "metadata": {
    "ExecuteTime": {
     "end_time": "2020-08-04T15:38:57.457574Z",
     "start_time": "2020-08-04T15:38:57.452213Z"
    }
   },
   "outputs": [],
   "source": [
    "def check_time_on_off_set(df_in):\n",
    "    df = df_in.copy()\n",
    "    #df = df.reset_index()\n",
    "\n",
    "    first_sleep_idx = df[df[\"label\"] != 0].head(1).index[0]\n",
    "    last_sleep_idx = df[df[\"label\"] != 0].tail(1).index[0]\n",
    "\n",
    "    delta_time_sleep_onset = df.iloc[first_sleep_idx][\"timedelta\"] - df.iloc[0][\"timedelta\"]\n",
    "    delta_time_sleep_offset = df.iloc[-1][\"timedelta\"] - df.iloc[last_sleep_idx][\"timedelta\"] \n",
    "\n",
    "    return delta_time_sleep_onset, delta_time_sleep_offset \n"
   ]
  },
  {
   "cell_type": "code",
   "execution_count": 38,
   "metadata": {
    "ExecuteTime": {
     "end_time": "2020-08-06T20:29:48.525848Z",
     "start_time": "2020-08-06T20:23:35.942504Z"
    }
   },
   "outputs": [
    {
     "name": "stdout",
     "output_type": "stream",
     "text": [
      "Processing (0): 8686948\n",
      "Processing (1): 9618981\n",
      "Processing (2): 8692923\n",
      "Processing (3): 1360686\n",
      "Processing (4): 5383425\n",
      "Processing (5): 6220552\n",
      "Processing (6): 2598705\n",
      "Processing (7): 8530312\n",
      "Processing (8): 1449548\n",
      "Processing (9): 759667\n",
      "Processing (10): 781756\n",
      "Processing (11): 4314139\n",
      "Processing (12): 9106476\n",
      "Processing (13): 1818471\n",
      "Processing (14): 3997827\n",
      "Processing (15): 8258170\n",
      "Processing (16): 5132496\n",
      "Processing (17): 7749105\n",
      "Processing (18): 46343\n",
      "Processing (19): 9961348\n",
      "Processing (20): 844359\n",
      "Processing (21): 8173033\n",
      "Processing (22): 8000685\n",
      "Processing (23): 4018081\n",
      "Processing (24): 3509524\n",
      "Processing (25): 5797046\n",
      "Processing (26): 1455390\n",
      "Processing (27): 5498603\n",
      "Processing (28): 1066528\n",
      "Processing (29): 2638030\n",
      "Processing (30): 4426783\n"
     ]
    }
   ],
   "source": [
    "save_df = []\n",
    "save_off_set = []\n",
    "save_on_set = []\n",
    "\n",
    "random_day = datetime.datetime(2000, 1, 1, 0, 0, 0, 0)\n",
    "\n",
    "for n, pid in enumerate(pids):\n",
    "    print(\"Processing (%d): %s\" % (n, pid))\n",
    "    \n",
    "    #if pid != \"4426783\":\n",
    "    #    continue \n",
    "    df_hr = get_hr_file(pid)\n",
    "    df_act = get_activity_file(pid)\n",
    "    df_psg = get_psg_file(pid)\n",
    "    \n",
    "    # Resamples to activity to 1s \n",
    "    df_act_time = df_act.set_index(df_act[\"timedelta\"])\n",
    "    df_act_sum = df_act_time.resample(\"1s\").sum()[[\"x\", \"y\", \"z\"]]\n",
    "    df_act_avg = df_act_time.resample(\"1s\").mean()[\"time\"]\n",
    "    \n",
    "    df_act = pd.concat([df_act_avg, df_act_sum], axis=1).dropna().reset_index()\n",
    "    \n",
    "    # Ignores any activity that was done way before the PSG night\n",
    "    df_act = get_df_around_t0(df_act)\n",
    "    df_counts = get_counts(df_act)\n",
    "    \n",
    "    merged = merge_dfs(df_counts, df_act, df_hr, df_psg)\n",
    "    merged[\"pid\"] = pid\n",
    "\n",
    "    merged = merged.reset_index()\n",
    "    merged[\"faketime\"] = merged[\"timedelta\"].apply(lambda x: x + random_day)\n",
    "\n",
    "    delta_sleep_onset, delta_sleep_offset = check_time_on_off_set(merged)\n",
    "    \n",
    "    save_off_set.append(delta_sleep_offset)\n",
    "    save_on_set.append(delta_sleep_onset)\n",
    "    save_df.append(merged)\n",
    "    "
   ]
  },
  {
   "cell_type": "code",
   "execution_count": 39,
   "metadata": {
    "ExecuteTime": {
     "end_time": "2020-08-06T20:30:35.917125Z",
     "start_time": "2020-08-06T20:30:35.880109Z"
    }
   },
   "outputs": [
    {
     "data": {
      "text/html": [
       "<div>\n",
       "<style scoped>\n",
       "    .dataframe tbody tr th:only-of-type {\n",
       "        vertical-align: middle;\n",
       "    }\n",
       "\n",
       "    .dataframe tbody tr th {\n",
       "        vertical-align: top;\n",
       "    }\n",
       "\n",
       "    .dataframe thead th {\n",
       "        text-align: right;\n",
       "    }\n",
       "</style>\n",
       "<table border=\"1\" class=\"dataframe\">\n",
       "  <thead>\n",
       "    <tr style=\"text-align: right;\">\n",
       "      <th></th>\n",
       "      <th>df_off_set</th>\n",
       "      <th>df_on_set</th>\n",
       "      <th>pid</th>\n",
       "    </tr>\n",
       "  </thead>\n",
       "  <tbody>\n",
       "    <tr>\n",
       "      <th>0</th>\n",
       "      <td>00:12:15</td>\n",
       "      <td>00:14:45</td>\n",
       "      <td>8686948</td>\n",
       "    </tr>\n",
       "    <tr>\n",
       "      <th>2</th>\n",
       "      <td>00:07:45</td>\n",
       "      <td>00:22:45</td>\n",
       "      <td>8692923</td>\n",
       "    </tr>\n",
       "    <tr>\n",
       "      <th>4</th>\n",
       "      <td>00:07:15</td>\n",
       "      <td>00:09:30</td>\n",
       "      <td>5383425</td>\n",
       "    </tr>\n",
       "    <tr>\n",
       "      <th>5</th>\n",
       "      <td>00:15:45</td>\n",
       "      <td>00:16:45</td>\n",
       "      <td>6220552</td>\n",
       "    </tr>\n",
       "    <tr>\n",
       "      <th>6</th>\n",
       "      <td>00:11:00</td>\n",
       "      <td>00:29:00</td>\n",
       "      <td>2598705</td>\n",
       "    </tr>\n",
       "    <tr>\n",
       "      <th>7</th>\n",
       "      <td>00:11:15</td>\n",
       "      <td>00:27:00</td>\n",
       "      <td>8530312</td>\n",
       "    </tr>\n",
       "    <tr>\n",
       "      <th>8</th>\n",
       "      <td>00:32:00</td>\n",
       "      <td>00:21:30</td>\n",
       "      <td>1449548</td>\n",
       "    </tr>\n",
       "    <tr>\n",
       "      <th>10</th>\n",
       "      <td>00:19:30</td>\n",
       "      <td>00:38:45</td>\n",
       "      <td>781756</td>\n",
       "    </tr>\n",
       "    <tr>\n",
       "      <th>12</th>\n",
       "      <td>00:14:15</td>\n",
       "      <td>00:36:00</td>\n",
       "      <td>9106476</td>\n",
       "    </tr>\n",
       "    <tr>\n",
       "      <th>13</th>\n",
       "      <td>00:23:30</td>\n",
       "      <td>00:29:45</td>\n",
       "      <td>1818471</td>\n",
       "    </tr>\n",
       "    <tr>\n",
       "      <th>14</th>\n",
       "      <td>00:05:30</td>\n",
       "      <td>00:13:45</td>\n",
       "      <td>3997827</td>\n",
       "    </tr>\n",
       "    <tr>\n",
       "      <th>15</th>\n",
       "      <td>00:13:00</td>\n",
       "      <td>00:40:45</td>\n",
       "      <td>8258170</td>\n",
       "    </tr>\n",
       "    <tr>\n",
       "      <th>18</th>\n",
       "      <td>00:16:45</td>\n",
       "      <td>00:29:15</td>\n",
       "      <td>46343</td>\n",
       "    </tr>\n",
       "    <tr>\n",
       "      <th>19</th>\n",
       "      <td>02:10:45</td>\n",
       "      <td>00:23:00</td>\n",
       "      <td>9961348</td>\n",
       "    </tr>\n",
       "    <tr>\n",
       "      <th>20</th>\n",
       "      <td>00:06:15</td>\n",
       "      <td>00:08:00</td>\n",
       "      <td>844359</td>\n",
       "    </tr>\n",
       "    <tr>\n",
       "      <th>21</th>\n",
       "      <td>00:17:15</td>\n",
       "      <td>00:16:15</td>\n",
       "      <td>8173033</td>\n",
       "    </tr>\n",
       "    <tr>\n",
       "      <th>22</th>\n",
       "      <td>00:18:45</td>\n",
       "      <td>00:43:45</td>\n",
       "      <td>8000685</td>\n",
       "    </tr>\n",
       "    <tr>\n",
       "      <th>23</th>\n",
       "      <td>00:27:30</td>\n",
       "      <td>00:41:45</td>\n",
       "      <td>4018081</td>\n",
       "    </tr>\n",
       "    <tr>\n",
       "      <th>26</th>\n",
       "      <td>00:12:15</td>\n",
       "      <td>00:15:45</td>\n",
       "      <td>1455390</td>\n",
       "    </tr>\n",
       "    <tr>\n",
       "      <th>27</th>\n",
       "      <td>00:08:30</td>\n",
       "      <td>00:25:45</td>\n",
       "      <td>5498603</td>\n",
       "    </tr>\n",
       "    <tr>\n",
       "      <th>28</th>\n",
       "      <td>00:34:15</td>\n",
       "      <td>00:55:30</td>\n",
       "      <td>1066528</td>\n",
       "    </tr>\n",
       "    <tr>\n",
       "      <th>29</th>\n",
       "      <td>00:19:15</td>\n",
       "      <td>00:33:00</td>\n",
       "      <td>2638030</td>\n",
       "    </tr>\n",
       "  </tbody>\n",
       "</table>\n",
       "</div>"
      ],
      "text/plain": [
       "   df_off_set df_on_set      pid\n",
       "0    00:12:15  00:14:45  8686948\n",
       "2    00:07:45  00:22:45  8692923\n",
       "4    00:07:15  00:09:30  5383425\n",
       "5    00:15:45  00:16:45  6220552\n",
       "6    00:11:00  00:29:00  2598705\n",
       "7    00:11:15  00:27:00  8530312\n",
       "8    00:32:00  00:21:30  1449548\n",
       "10   00:19:30  00:38:45   781756\n",
       "12   00:14:15  00:36:00  9106476\n",
       "13   00:23:30  00:29:45  1818471\n",
       "14   00:05:30  00:13:45  3997827\n",
       "15   00:13:00  00:40:45  8258170\n",
       "18   00:16:45  00:29:15    46343\n",
       "19   02:10:45  00:23:00  9961348\n",
       "20   00:06:15  00:08:00   844359\n",
       "21   00:17:15  00:16:15  8173033\n",
       "22   00:18:45  00:43:45  8000685\n",
       "23   00:27:30  00:41:45  4018081\n",
       "26   00:12:15  00:15:45  1455390\n",
       "27   00:08:30  00:25:45  5498603\n",
       "28   00:34:15  00:55:30  1066528\n",
       "29   00:19:15  00:33:00  2638030"
      ]
     },
     "execution_count": 39,
     "metadata": {},
     "output_type": "execute_result"
    }
   ],
   "source": [
    "offset_time, onset_time = 5, 5\n",
    "df_off_set = pd.Series(save_off_set)\n",
    "df_off_set.name = \"df_off_set\"\n",
    "df_off_set = df_off_set[df_off_set >= timedelta(minutes=offset_time)]\n",
    "df_on_set = pd.Series(save_on_set)\n",
    "df_on_set.name = \"df_on_set\"\n",
    "df_on_set = df_on_set[df_on_set >= timedelta(minutes=onset_time)]\n",
    "result = pd.concat((df_off_set, df_on_set), axis=1) #, right_index=True, left_index=True)\n",
    "result[\"pid\"] = pids\n",
    "remaining = result.dropna()\n",
    "remaining"
   ]
  },
  {
   "cell_type": "code",
   "execution_count": 40,
   "metadata": {
    "ExecuteTime": {
     "end_time": "2020-08-06T20:30:41.821133Z",
     "start_time": "2020-08-06T20:30:39.745887Z"
    }
   },
   "outputs": [
    {
     "name": "stdout",
     "output_type": "stream",
     "text": [
      "Saving 8686948\n",
      "Saving 8692923\n",
      "Saving 5383425\n",
      "Saving 6220552\n",
      "Saving 2598705\n",
      "Saving 8530312\n",
      "Saving 1449548\n",
      "Saving 781756\n",
      "Saving 9106476\n",
      "Saving 1818471\n",
      "Saving 3997827\n",
      "Saving 8258170\n",
      "Saving 46343\n",
      "Saving 9961348\n",
      "Saving 844359\n",
      "Saving 8173033\n",
      "Saving 8000685\n",
      "Saving 4018081\n",
      "Saving 1455390\n",
      "Saving 5498603\n",
      "Saving 1066528\n",
      "Saving 2638030\n"
     ]
    }
   ],
   "source": [
    "for idx, pid in enumerate(pids):\n",
    "    if pid in remaining[\"pid\"].values:\n",
    "        print(\"Saving %s\" % pid)\n",
    "        \n",
    "        merged = save_df[idx]\n",
    "        merged.to_csv(\"%s_merged.csv\" % pid)"
   ]
  },
  {
   "cell_type": "code",
   "execution_count": 266,
   "metadata": {
    "ExecuteTime": {
     "end_time": "2020-07-13T13:07:53.235275Z",
     "start_time": "2020-07-13T13:07:52.948019Z"
    }
   },
   "outputs": [
    {
     "data": {
      "text/plain": [
       "<matplotlib.axes._subplots.AxesSubplot at 0x7fb535c9c2e0>"
      ]
     },
     "execution_count": 266,
     "metadata": {},
     "output_type": "execute_result"
    },
    {
     "data": {
      "image/png": "[encoded data removed]",
      "text/plain": [
       "<Figure size 432x288 with 1 Axes>"
      ]
     },
     "metadata": {
      "needs_background": "light"
     },
     "output_type": "display_data"
    }
   ],
   "source": [
    "def plot_sleep_set(data, label=\"sleep_onset\"):\n",
    "    d = pd.Series(data)\n",
    "    d.name = label\n",
    "    ax = d.dt.total_seconds().div(60).plot.hist(bins=100)\n",
    "    ax.set_title(label)\n",
    "    ax.set_xlabel(\"Time (min)\")\n",
    "    return ax\n",
    "\n",
    "\n",
    "plot_sleep_set(save_on_set, label=\"sleep_onset\")\n",
    "\n",
    "\n"
   ]
  },
  {
   "cell_type": "code",
   "execution_count": 268,
   "metadata": {
    "ExecuteTime": {
     "end_time": "2020-07-13T13:08:55.338681Z",
     "start_time": "2020-07-13T13:08:55.126279Z"
    }
   },
   "outputs": [
    {
     "data": {
      "text/plain": [
       "<matplotlib.axes._subplots.AxesSubplot at 0x7fb533f53ac0>"
      ]
     },
     "execution_count": 268,
     "metadata": {},
     "output_type": "execute_result"
    },
    {
     "data": {
      "image/png": "[encoded data removed]",
      "text/plain": [
       "<Figure size 432x288 with 1 Axes>"
      ]
     },
     "metadata": {
      "needs_background": "light"
     },
     "output_type": "display_data"
    }
   ],
   "source": [
    "plot_sleep_set(save_off_set, label=\"sleep_offset\")"
   ]
  }
 ],
 "metadata": {
  "kernelspec": {
   "display_name": "Python 3",
   "language": "python",
   "name": "python3"
  },
  "language_info": {
   "codemirror_mode": {
    "name": "ipython",
    "version": 3
   },
   "file_extension": ".py",
   "mimetype": "text/x-python",
   "name": "python",
   "nbconvert_exporter": "python",
   "pygments_lexer": "ipython3",
   "version": "3.8.5"
  }
 },
 "nbformat": 4,
 "nbformat_minor": 4
}
